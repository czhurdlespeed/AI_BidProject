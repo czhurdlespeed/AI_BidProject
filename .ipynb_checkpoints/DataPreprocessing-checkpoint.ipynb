{
 "cells": [
  {
   "cell_type": "code",
   "execution_count": 104,
   "id": "0d6b427a-2ac1-4af0-8205-3dc419d7eea1",
   "metadata": {},
   "outputs": [],
   "source": [
    "import pandas as pd\n",
    "import re\n",
    "from sklearn.preprocessing import StandardScaler, OneHotEncoder, LabelEncoder\n",
    "from sklearn.compose import ColumnTransformer\n",
    "from sklearn.pipeline import Pipeline"
   ]
  },
  {
   "cell_type": "code",
   "execution_count": 75,
   "id": "3f6c14bc-a167-4fbc-b308-17d4d9615402",
   "metadata": {},
   "outputs": [
    {
     "name": "stdout",
     "output_type": "stream",
     "text": [
      "         Proposal  Call Order  Section Number Section Description  Line  \\\n",
      "0  B1CBA2401581-0           2               1             ROADWAY     5   \n",
      "1  B1CBA2401581-0           2               1             ROADWAY     5   \n",
      "2  B1CBA2401581-0           2               1             ROADWAY     5   \n",
      "3  B1CBA2401581-0           2               1             ROADWAY     5   \n",
      "4  B1CBA2401581-0           2               1             ROADWAY     5   \n",
      "\n",
      "       Item  Alternate Code           Item Description Quantity Unit  \\\n",
      "0  150-1000             NaN  TRAFFIC CONTROL - 0013813  1.00000   LS   \n",
      "1  150-1000             NaN  TRAFFIC CONTROL - 0013813  1.00000   LS   \n",
      "2  150-1000             NaN  TRAFFIC CONTROL - 0013813  1.00000   LS   \n",
      "3  150-1000             NaN  TRAFFIC CONTROL - 0013813  1.00000   LS   \n",
      "4  150-1000             NaN  TRAFFIC CONTROL - 0013813  1.00000   LS   \n",
      "\n",
      "                                  Vendor Name       Bidder ID   Unit Price  \\\n",
      "0                E. R. SNELL CONTRACTOR, INC.          2SN250  $425,000.00   \n",
      "1  WRIGHT BROTHERS CONSTRUCTION COMPANY, INC.          2WR260  $463,000.00   \n",
      "2            GEORGIA BRIDGE AND CONCRETE, LLC  00000000014054  $520,000.00   \n",
      "3            UNITED INFRASTRUCTURE GROUP INC.          2UN765  $647,088.00   \n",
      "4        C. W. MATTHEWS CONTRACTING CO., INC.          2MA850  $180,340.02   \n",
      "\n",
      "     Extension     Deviation  \n",
      "0  $425,000.00         $0.00  \n",
      "1  $463,000.00    $38,000.00  \n",
      "2  $520,000.00    $95,000.00  \n",
      "3  $647,088.00   $222,088.00  \n",
      "4  $180,340.02  -$244,659.98  \n"
     ]
    }
   ],
   "source": [
    "## Clean and Extract needed columns\n",
    "singlebidtab = pd.read_csv(\"ga_csv/2024/B1CBA2401581-0.csv\")\n",
    "print(singlebidtab.head())"
   ]
  },
  {
   "cell_type": "code",
   "execution_count": 76,
   "id": "432e0022-7f36-4e32-8707-f3013c35ef0a",
   "metadata": {},
   "outputs": [],
   "source": [
    "singlebidtab[\"Bid Tab Rankings\"] = singlebidtab['Vendor Name'].factorize()[0]"
   ]
  },
  {
   "cell_type": "code",
   "execution_count": 77,
   "id": "bc2ffb29-fae3-4bca-b5f1-8a07c23af3e7",
   "metadata": {},
   "outputs": [
    {
     "data": {
      "text/plain": [
       "Vendor Name\n",
       "C. W. MATTHEWS CONTRACTING CO., INC.          4\n",
       "E. R. SNELL CONTRACTOR, INC.                  0\n",
       "GEORGIA BRIDGE AND CONCRETE, LLC              2\n",
       "UNITED INFRASTRUCTURE GROUP INC.              3\n",
       "WRIGHT BROTHERS CONSTRUCTION COMPANY, INC.    1\n",
       "Name: Bid Tab Rankings, dtype: int64"
      ]
     },
     "execution_count": 77,
     "metadata": {},
     "output_type": "execute_result"
    }
   ],
   "source": [
    "rankingbidtab = singlebidtab.groupby('Vendor Name')['Bid Tab Rankings'].first()\n",
    "rankingbidtab"
   ]
  },
  {
   "cell_type": "code",
   "execution_count": 78,
   "id": "905ad16b-1655-48d0-aa62-d0832d80f9ef",
   "metadata": {},
   "outputs": [],
   "source": [
    "sortedbidtab = singlebidtab.sort_values('Bid Tab Rankings').reset_index(drop=True)"
   ]
  },
  {
   "cell_type": "code",
   "execution_count": 79,
   "id": "78207483-9c71-41ff-a27c-b7cf5e216a7c",
   "metadata": {},
   "outputs": [
    {
     "name": "stdout",
     "output_type": "stream",
     "text": [
      "          Proposal  Call Order  Section Number  \\\n",
      "0   B1CBA2401581-0           2               1   \n",
      "1   B1CBA2401581-0           2               1   \n",
      "2   B1CBA2401581-0           2               1   \n",
      "3   B1CBA2401581-0           2               7   \n",
      "4   B1CBA2401581-0           2               1   \n",
      "5   B1CBA2401581-0           2               1   \n",
      "6   B1CBA2401581-0           2               1   \n",
      "7   B1CBA2401581-0           2               1   \n",
      "8   B1CBA2401581-0           2               1   \n",
      "9   B1CBA2401581-0           2               7   \n",
      "10  B1CBA2401581-0           2               1   \n",
      "11  B1CBA2401581-0           2               1   \n",
      "12  B1CBA2401581-0           2               1   \n",
      "13  B1CBA2401581-0           2               1   \n",
      "14  B1CBA2401581-0           2               7   \n",
      "15  B1CBA2401581-0           2               1   \n",
      "16  B1CBA2401581-0           2               1   \n",
      "17  B1CBA2401581-0           2               1   \n",
      "18  B1CBA2401581-0           2               1   \n",
      "19  B1CBA2401581-0           2               1   \n",
      "\n",
      "                  Section Description  Line      Item  Alternate Code  \\\n",
      "0                             ROADWAY     5  150-1000             NaN   \n",
      "1                             ROADWAY   235  603-2024             NaN   \n",
      "2                             ROADWAY   240  603-2181             NaN   \n",
      "3   BRIDGE NO 2 - OVER OCMULGEE RIVER   660  520-1173             NaN   \n",
      "4                             ROADWAY   245  603-7000             NaN   \n",
      "5                             ROADWAY   250  620-0100             NaN   \n",
      "6                             ROADWAY   255  632-0003             NaN   \n",
      "7                             ROADWAY   260  634-1200             NaN   \n",
      "8                             ROADWAY   265  636-1033             NaN   \n",
      "9   BRIDGE NO 2 - OVER OCMULGEE RIVER   655  520-0595             NaN   \n",
      "10                            ROADWAY   270  636-1036             NaN   \n",
      "11                            ROADWAY   280  636-5020             NaN   \n",
      "12                            ROADWAY   285  641-1100             NaN   \n",
      "13                            ROADWAY   290  641-1200             NaN   \n",
      "14  BRIDGE NO 2 - OVER OCMULGEE RIVER   650  511-3000             NaN   \n",
      "15                            ROADWAY   295  641-5001             NaN   \n",
      "16                            ROADWAY   300  641-5015             NaN   \n",
      "17                            ROADWAY   305  643-4000             NaN   \n",
      "18                            ROADWAY   310  643-8200             NaN   \n",
      "19                            ROADWAY   315  647-1040             NaN   \n",
      "\n",
      "                                     Item Description     Quantity Unit  \\\n",
      "0                           TRAFFIC CONTROL - 0013813      1.00000   LS   \n",
      "1                     STN DUMPED RIP RAP, TP 1, 24 IN     15.00000   SY   \n",
      "2                     STN DUMPED RIP RAP, TP 3, 18 IN    180.00000   SY   \n",
      "3               PILING IN PLACE, STEEL H, HP 14 X 102  1,310.00000   LF   \n",
      "4                               PLASTIC FILTER FABRIC    195.00000   SY   \n",
      "5                     TEMPORARY BARRIER, METHOD NO. 1  4,351.00000   LF   \n",
      "6           CHANGEABLE MESSAGE SIGN, PORTABLE, TYPE 3      2.00000   EA   \n",
      "7                                RIGHT OF WAY MARKERS     55.00000   EA   \n",
      "8       HIGHWAY SIGNS, TP 1 MATL, REFL SHEETING, TP 9     71.00000   SF   \n",
      "9                          H-PILE POINTS, HP 14 X 102     32.00000   EA   \n",
      "10     HIGHWAY SIGNS, TP 1 MATL, REFL SHEETING, TP 11     38.00000   SF   \n",
      "11                                   DELINEATOR, TP 2     24.00000   EA   \n",
      "12                                    GUARDRAIL, TP T    166.00000   LF   \n",
      "13                                    GUARDRAIL, TP W  3,468.00000   LF   \n",
      "14                    SUPERSTR REINF STEEL, BR NO - 2      1.00000   LS   \n",
      "15                          GUARDRAIL ANCHORAGE, TP 1      4.00000   EA   \n",
      "16  GUARDRAIL TERMINAL, TP 12A, 31 IN, TANGENT, EN...      4.00000   EA   \n",
      "17                                   WOVEN WIRE FENCE  1,250.00000   LF   \n",
      "18                       BARRIER FENCE (ORANGE), 4 FT  2,017.00000   LF   \n",
      "19  FLASHING BEACON INSTALLATION NO - 1, RAILROAD ...      1.00000   LS   \n",
      "\n",
      "                     Vendor Name Bidder ID   Unit Price    Extension  \\\n",
      "0   E. R. SNELL CONTRACTOR, INC.    2SN250  $425,000.00  $425,000.00   \n",
      "1   E. R. SNELL CONTRACTOR, INC.    2SN250       $99.75    $1,496.25   \n",
      "2   E. R. SNELL CONTRACTOR, INC.    2SN250       $53.75    $9,675.00   \n",
      "3   E. R. SNELL CONTRACTOR, INC.    2SN250      $140.00  $183,400.00   \n",
      "4   E. R. SNELL CONTRACTOR, INC.    2SN250        $5.45    $1,062.75   \n",
      "5   E. R. SNELL CONTRACTOR, INC.    2SN250        $5.00   $21,755.00   \n",
      "6   E. R. SNELL CONTRACTOR, INC.    2SN250    $9,590.00   $19,180.00   \n",
      "7   E. R. SNELL CONTRACTOR, INC.    2SN250      $181.00    $9,955.00   \n",
      "8   E. R. SNELL CONTRACTOR, INC.    2SN250       $25.25    $1,792.75   \n",
      "9   E. R. SNELL CONTRACTOR, INC.    2SN250      $351.00   $11,232.00   \n",
      "10  E. R. SNELL CONTRACTOR, INC.    2SN250       $27.50    $1,045.00   \n",
      "11  E. R. SNELL CONTRACTOR, INC.    2SN250      $105.00    $2,520.00   \n",
      "12  E. R. SNELL CONTRACTOR, INC.    2SN250       $61.00   $10,126.00   \n",
      "13  E. R. SNELL CONTRACTOR, INC.    2SN250       $31.00  $107,508.00   \n",
      "14  E. R. SNELL CONTRACTOR, INC.    2SN250  $319,600.00  $319,600.00   \n",
      "15  E. R. SNELL CONTRACTOR, INC.    2SN250    $4,530.00   $18,120.00   \n",
      "16  E. R. SNELL CONTRACTOR, INC.    2SN250    $3,330.00   $13,320.00   \n",
      "17  E. R. SNELL CONTRACTOR, INC.    2SN250       $30.75   $38,437.50   \n",
      "18  E. R. SNELL CONTRACTOR, INC.    2SN250        $4.45    $8,975.65   \n",
      "19  E. R. SNELL CONTRACTOR, INC.    2SN250   $23,200.00   $23,200.00   \n",
      "\n",
      "   Deviation  Bid Tab Rankings  \n",
      "0      $0.00                 0  \n",
      "1      $0.00                 0  \n",
      "2      $0.00                 0  \n",
      "3      $0.00                 0  \n",
      "4      $0.00                 0  \n",
      "5      $0.00                 0  \n",
      "6      $0.00                 0  \n",
      "7      $0.00                 0  \n",
      "8      $0.00                 0  \n",
      "9      $0.00                 0  \n",
      "10     $0.00                 0  \n",
      "11     $0.00                 0  \n",
      "12     $0.00                 0  \n",
      "13     $0.00                 0  \n",
      "14     $0.00                 0  \n",
      "15     $0.00                 0  \n",
      "16     $0.00                 0  \n",
      "17     $0.00                 0  \n",
      "18     $0.00                 0  \n",
      "19     $0.00                 0  \n"
     ]
    }
   ],
   "source": [
    "print(sortedbidtab.head(20))"
   ]
  },
  {
   "cell_type": "code",
   "execution_count": 80,
   "id": "e0967320-0188-49f2-ae2f-0e7b2031a513",
   "metadata": {},
   "outputs": [
    {
     "name": "stdout",
     "output_type": "stream",
     "text": [
      "650\n"
     ]
    }
   ],
   "source": [
    "print(len(sortedbidtab))"
   ]
  },
  {
   "cell_type": "code",
   "execution_count": 81,
   "id": "af14be49-bab0-4953-b607-da0c22a46fd0",
   "metadata": {},
   "outputs": [
    {
     "name": "stdout",
     "output_type": "stream",
     "text": [
      "['E. R. SNELL CONTRACTOR, INC.'\n",
      " 'WRIGHT BROTHERS CONSTRUCTION COMPANY, INC.'\n",
      " 'GEORGIA BRIDGE AND CONCRETE, LLC' 'UNITED INFRASTRUCTURE GROUP INC.'\n",
      " 'C. W. MATTHEWS CONTRACTING CO., INC.']\n"
     ]
    }
   ],
   "source": [
    "print(sortedbidtab['Vendor Name'].unique())"
   ]
  },
  {
   "cell_type": "code",
   "execution_count": 82,
   "id": "d2446b4b-016e-46dd-ae5b-ed4b08d98869",
   "metadata": {},
   "outputs": [],
   "source": [
    "# Clean Columns\n",
    "def clean_numeric_columns(df, columns):\n",
    "    def clean_string(s):\n",
    "        if pd.isna(s):\n",
    "            return s\n",
    "        return re.sub(r'[^\\d.]', '', str(s))\n",
    "\n",
    "    for col in columns:\n",
    "        if col in df.columns:\n",
    "            df[col] = df[col].apply(clean_string)\n",
    "            # Convert to float if possible\n",
    "            df[col] = pd.to_numeric(df[col], errors='ignore')\n",
    "        else:\n",
    "            print(f\"Warning: Column '{col}' not found in the DataFrame.\")\n",
    "\n",
    "    return df"
   ]
  },
  {
   "cell_type": "code",
   "execution_count": 83,
   "id": "b46dd379-5600-4f28-b54d-a62327f125c9",
   "metadata": {},
   "outputs": [],
   "source": [
    "def necessarycolumns(df):\n",
    "    columnsforFeatureVector = [\"Proposal\",\"Item\", \"Quantity\", \"Vendor Name\", \"Unit Price\", \"Extension\", \"Bid Tab Rankings\"]\n",
    "    featurevectordataframe = df[columnsforFeatureVector]\n",
    "    return featurevectordataframe"
   ]
  },
  {
   "cell_type": "code",
   "execution_count": 84,
   "id": "764a37d1-b79d-44ad-b153-3b06a7f49e33",
   "metadata": {},
   "outputs": [
    {
     "name": "stdout",
     "output_type": "stream",
     "text": [
      "         Proposal      Item     Quantity                   Vendor Name  \\\n",
      "0  B1CBA2401581-0  150-1000      1.00000  E. R. SNELL CONTRACTOR, INC.   \n",
      "1  B1CBA2401581-0  603-2024     15.00000  E. R. SNELL CONTRACTOR, INC.   \n",
      "2  B1CBA2401581-0  603-2181    180.00000  E. R. SNELL CONTRACTOR, INC.   \n",
      "3  B1CBA2401581-0  520-1173  1,310.00000  E. R. SNELL CONTRACTOR, INC.   \n",
      "4  B1CBA2401581-0  603-7000    195.00000  E. R. SNELL CONTRACTOR, INC.   \n",
      "\n",
      "    Unit Price    Extension  Bid Tab Rankings  \n",
      "0  $425,000.00  $425,000.00                 0  \n",
      "1       $99.75    $1,496.25                 0  \n",
      "2       $53.75    $9,675.00                 0  \n",
      "3      $140.00  $183,400.00                 0  \n",
      "4        $5.45    $1,062.75                 0  \n"
     ]
    }
   ],
   "source": [
    "featurevectordataframe = necessarycolumns(sortedbidtab)\n",
    "print(featurevectordataframe.head())"
   ]
  },
  {
   "cell_type": "code",
   "execution_count": 85,
   "id": "1cb22c45-3b88-42fa-bbbe-ed184098846a",
   "metadata": {},
   "outputs": [
    {
     "name": "stderr",
     "output_type": "stream",
     "text": [
      "/var/folders/3j/nswsh09j5rxcg8c7sj06k4080000gn/T/ipykernel_89193/3404092778.py:10: SettingWithCopyWarning: \n",
      "A value is trying to be set on a copy of a slice from a DataFrame.\n",
      "Try using .loc[row_indexer,col_indexer] = value instead\n",
      "\n",
      "See the caveats in the documentation: https://pandas.pydata.org/pandas-docs/stable/user_guide/indexing.html#returning-a-view-versus-a-copy\n",
      "  df[col] = df[col].apply(clean_string)\n",
      "/var/folders/3j/nswsh09j5rxcg8c7sj06k4080000gn/T/ipykernel_89193/3404092778.py:12: FutureWarning: errors='ignore' is deprecated and will raise in a future version. Use to_numeric without passing `errors` and catch exceptions explicitly instead\n",
      "  df[col] = pd.to_numeric(df[col], errors='ignore')\n",
      "/var/folders/3j/nswsh09j5rxcg8c7sj06k4080000gn/T/ipykernel_89193/3404092778.py:12: SettingWithCopyWarning: \n",
      "A value is trying to be set on a copy of a slice from a DataFrame.\n",
      "Try using .loc[row_indexer,col_indexer] = value instead\n",
      "\n",
      "See the caveats in the documentation: https://pandas.pydata.org/pandas-docs/stable/user_guide/indexing.html#returning-a-view-versus-a-copy\n",
      "  df[col] = pd.to_numeric(df[col], errors='ignore')\n"
     ]
    },
    {
     "data": {
      "text/html": [
       "<div>\n",
       "<style scoped>\n",
       "    .dataframe tbody tr th:only-of-type {\n",
       "        vertical-align: middle;\n",
       "    }\n",
       "\n",
       "    .dataframe tbody tr th {\n",
       "        vertical-align: top;\n",
       "    }\n",
       "\n",
       "    .dataframe thead th {\n",
       "        text-align: right;\n",
       "    }\n",
       "</style>\n",
       "<table border=\"1\" class=\"dataframe\">\n",
       "  <thead>\n",
       "    <tr style=\"text-align: right;\">\n",
       "      <th></th>\n",
       "      <th>Proposal</th>\n",
       "      <th>Item</th>\n",
       "      <th>Quantity</th>\n",
       "      <th>Vendor Name</th>\n",
       "      <th>Unit Price</th>\n",
       "      <th>Extension</th>\n",
       "      <th>Bid Tab Rankings</th>\n",
       "    </tr>\n",
       "  </thead>\n",
       "  <tbody>\n",
       "    <tr>\n",
       "      <th>0</th>\n",
       "      <td>B1CBA2401581-0</td>\n",
       "      <td>150-1000</td>\n",
       "      <td>1.0</td>\n",
       "      <td>E. R. SNELL CONTRACTOR, INC.</td>\n",
       "      <td>425000.00</td>\n",
       "      <td>425000.00</td>\n",
       "      <td>0</td>\n",
       "    </tr>\n",
       "    <tr>\n",
       "      <th>1</th>\n",
       "      <td>B1CBA2401581-0</td>\n",
       "      <td>603-2024</td>\n",
       "      <td>15.0</td>\n",
       "      <td>E. R. SNELL CONTRACTOR, INC.</td>\n",
       "      <td>99.75</td>\n",
       "      <td>1496.25</td>\n",
       "      <td>0</td>\n",
       "    </tr>\n",
       "    <tr>\n",
       "      <th>2</th>\n",
       "      <td>B1CBA2401581-0</td>\n",
       "      <td>603-2181</td>\n",
       "      <td>180.0</td>\n",
       "      <td>E. R. SNELL CONTRACTOR, INC.</td>\n",
       "      <td>53.75</td>\n",
       "      <td>9675.00</td>\n",
       "      <td>0</td>\n",
       "    </tr>\n",
       "    <tr>\n",
       "      <th>3</th>\n",
       "      <td>B1CBA2401581-0</td>\n",
       "      <td>520-1173</td>\n",
       "      <td>1310.0</td>\n",
       "      <td>E. R. SNELL CONTRACTOR, INC.</td>\n",
       "      <td>140.00</td>\n",
       "      <td>183400.00</td>\n",
       "      <td>0</td>\n",
       "    </tr>\n",
       "    <tr>\n",
       "      <th>4</th>\n",
       "      <td>B1CBA2401581-0</td>\n",
       "      <td>603-7000</td>\n",
       "      <td>195.0</td>\n",
       "      <td>E. R. SNELL CONTRACTOR, INC.</td>\n",
       "      <td>5.45</td>\n",
       "      <td>1062.75</td>\n",
       "      <td>0</td>\n",
       "    </tr>\n",
       "  </tbody>\n",
       "</table>\n",
       "</div>"
      ],
      "text/plain": [
       "         Proposal      Item  Quantity                   Vendor Name  \\\n",
       "0  B1CBA2401581-0  150-1000       1.0  E. R. SNELL CONTRACTOR, INC.   \n",
       "1  B1CBA2401581-0  603-2024      15.0  E. R. SNELL CONTRACTOR, INC.   \n",
       "2  B1CBA2401581-0  603-2181     180.0  E. R. SNELL CONTRACTOR, INC.   \n",
       "3  B1CBA2401581-0  520-1173    1310.0  E. R. SNELL CONTRACTOR, INC.   \n",
       "4  B1CBA2401581-0  603-7000     195.0  E. R. SNELL CONTRACTOR, INC.   \n",
       "\n",
       "   Unit Price  Extension  Bid Tab Rankings  \n",
       "0   425000.00  425000.00                 0  \n",
       "1       99.75    1496.25                 0  \n",
       "2       53.75    9675.00                 0  \n",
       "3      140.00  183400.00                 0  \n",
       "4        5.45    1062.75                 0  "
      ]
     },
     "execution_count": 85,
     "metadata": {},
     "output_type": "execute_result"
    }
   ],
   "source": [
    "cleanedfeaturevectorDF = clean_numeric_columns(featurevectordataframe, [\"Quantity\", \"Unit Price\", \"Extension\"])\n",
    "cleanedfeaturevectorDF.head()"
   ]
  },
  {
   "cell_type": "code",
   "execution_count": 86,
   "id": "cc458980-d0ee-45ea-b4d3-14c63f9db976",
   "metadata": {},
   "outputs": [
    {
     "name": "stdout",
     "output_type": "stream",
     "text": [
      "111\n",
      "107\n",
      "107\n",
      "111\n",
      "107\n"
     ]
    }
   ],
   "source": [
    "individualcontractorDFs = dict()\n",
    "for contractor in cleanedfeaturevectorDF['Vendor Name'].unique():\n",
    "    individualcontractorDFs[contractor] = cleanedfeaturevectorDF[cleanedfeaturevectorDF[\"Vendor Name\"] == contractor].reset_index(drop=True)\n",
    "    individualcontractorDFs[contractor].dropna(subset=['Item'], inplace=True)\n",
    "    df = individualcontractorDFs[contractor]\n",
    "    duplicated_items = df[df['Item'].duplicated(keep=False)][\"Item\"].unique()\n",
    "    #print(f\"Duplicated Items: {duplicated_items}\")\n",
    "    for item in duplicated_items:\n",
    "        subset = df[df[\"Item\"] == item].reset_index(drop=True)\n",
    "        #print(f\"Subset: {subset}\")\n",
    "        itemdf = pd.DataFrame({\n",
    "            \"Proposal\": [df[\"Proposal\"].iloc[0]],\n",
    "            \"Item\": [item],\n",
    "            \"Quantity\": [subset[\"Quantity\"].sum()],\n",
    "            \"Vendor Name\": [df[\"Vendor Name\"].iloc[0]],\n",
    "            \"Unit Price\": [subset[\"Unit Price\"].mean()], # NOTE: COME BACK TO THIS...THIS MAY BE AN ISSUE\n",
    "            \"Extension\": [subset[\"Extension\"].sum()]\n",
    "        })\n",
    "        #print(f\"Item df: {itemdf}\")\n",
    "        df = df[df[\"Item\"] != item]\n",
    "        df = pd.concat([df, itemdf])\n",
    "    individualcontractorDFs[contractor] = df   \n",
    "    print(len(individualcontractorDFs[contractor]))\n",
    "    "
   ]
  },
  {
   "cell_type": "code",
   "execution_count": 87,
   "id": "b26a510a-1eb9-4cfd-b500-0216b81b6160",
   "metadata": {},
   "outputs": [
    {
     "name": "stdout",
     "output_type": "stream",
     "text": [
      "4945\n"
     ]
    }
   ],
   "source": [
    "GADOT_payitem_index = list(pd.read_csv(\"PayItemIndex_2021.csv\")[\"ITEM NO.\"])\n",
    "print(len(GADOT_payitem_index))\n"
   ]
  },
  {
   "cell_type": "code",
   "execution_count": 88,
   "id": "72c5ee8c-b850-457e-8182-00380c533416",
   "metadata": {},
   "outputs": [],
   "source": [
    "itemsEachContractorinProposal = dict()\n",
    "for contractorname, contractor in individualcontractorDFs.items():\n",
    "    GADOT_payitemsDF = pd.DataFrame({\"Item\": GADOT_payitem_index})\n",
    "    allPayItems = pd.merge(GADOT_payitemsDF, contractor, on=\"Item\", how=\"left\")\n",
    "    # Fill NaN values for specific columns\n",
    "    allPayItems[\"Proposal\"] = allPayItems[\"Proposal\"].fillna(contractor[\"Proposal\"].iloc[0])\n",
    "    allPayItems[\"Vendor Name\"] = allPayItems[\"Vendor Name\"].fillna(contractor[\"Vendor Name\"].iloc[0])\n",
    "    allPayItems[\"Bid Tab Rankings\"] = allPayItems[\"Bid Tab Rankings\"].fillna(contractor[\"Bid Tab Rankings\"].iloc[0])\n",
    "    \n",
    "    # Fill NaN values for numeric columns with 0\n",
    "    numeric_columns = [\"Quantity\", \"Unit Price\", \"Extension\"]\n",
    "    allPayItems[numeric_columns] = allPayItems[numeric_columns].fillna(0)\n",
    "    itemsEachContractorinProposal[contractorname] = allPayItems"
   ]
  },
  {
   "cell_type": "code",
   "execution_count": 89,
   "id": "1917a0c3-433c-4d07-8472-3351a422bd93",
   "metadata": {
    "scrolled": true
   },
   "outputs": [
    {
     "name": "stdout",
     "output_type": "stream",
     "text": [
      "{'E. R. SNELL CONTRACTOR, INC.':               Item        Proposal  Quantity                   Vendor Name  \\\n",
      "0         001-1000  B1CBA2401581-0       0.0  E. R. SNELL CONTRACTOR, INC.   \n",
      "1         001-1900  B1CBA2401581-0       0.0  E. R. SNELL CONTRACTOR, INC.   \n",
      "2         001-1999  B1CBA2401581-0       0.0  E. R. SNELL CONTRACTOR, INC.   \n",
      "3         001-2000  B1CBA2401581-0       0.0  E. R. SNELL CONTRACTOR, INC.   \n",
      "4         001-2001  B1CBA2401581-0       0.0  E. R. SNELL CONTRACTOR, INC.   \n",
      "...            ...             ...       ...                           ...   \n",
      "4940  T-901-501-01  B1CBA2401581-0       0.0  E. R. SNELL CONTRACTOR, INC.   \n",
      "4941  T-901-501-02  B1CBA2401581-0       0.0  E. R. SNELL CONTRACTOR, INC.   \n",
      "4942  T-904-501-01  B1CBA2401581-0       0.0  E. R. SNELL CONTRACTOR, INC.   \n",
      "4943  T-905-501-01  B1CBA2401581-0       0.0  E. R. SNELL CONTRACTOR, INC.   \n",
      "4944  T-905-502-01  B1CBA2401581-0       0.0  E. R. SNELL CONTRACTOR, INC.   \n",
      "\n",
      "      Unit Price  Extension  Bid Tab Rankings  \n",
      "0            0.0        0.0               0.0  \n",
      "1            0.0        0.0               0.0  \n",
      "2            0.0        0.0               0.0  \n",
      "3            0.0        0.0               0.0  \n",
      "4            0.0        0.0               0.0  \n",
      "...          ...        ...               ...  \n",
      "4940         0.0        0.0               0.0  \n",
      "4941         0.0        0.0               0.0  \n",
      "4942         0.0        0.0               0.0  \n",
      "4943         0.0        0.0               0.0  \n",
      "4944         0.0        0.0               0.0  \n",
      "\n",
      "[4945 rows x 7 columns], 'WRIGHT BROTHERS CONSTRUCTION COMPANY, INC.':               Item        Proposal  Quantity  \\\n",
      "0         001-1000  B1CBA2401581-0       0.0   \n",
      "1         001-1900  B1CBA2401581-0       0.0   \n",
      "2         001-1999  B1CBA2401581-0       0.0   \n",
      "3         001-2000  B1CBA2401581-0       0.0   \n",
      "4         001-2001  B1CBA2401581-0       0.0   \n",
      "...            ...             ...       ...   \n",
      "4940  T-901-501-01  B1CBA2401581-0       0.0   \n",
      "4941  T-901-501-02  B1CBA2401581-0       0.0   \n",
      "4942  T-904-501-01  B1CBA2401581-0       0.0   \n",
      "4943  T-905-501-01  B1CBA2401581-0       0.0   \n",
      "4944  T-905-502-01  B1CBA2401581-0       0.0   \n",
      "\n",
      "                                     Vendor Name  Unit Price  Extension  \\\n",
      "0     WRIGHT BROTHERS CONSTRUCTION COMPANY, INC.         0.0        0.0   \n",
      "1     WRIGHT BROTHERS CONSTRUCTION COMPANY, INC.         0.0        0.0   \n",
      "2     WRIGHT BROTHERS CONSTRUCTION COMPANY, INC.         0.0        0.0   \n",
      "3     WRIGHT BROTHERS CONSTRUCTION COMPANY, INC.         0.0        0.0   \n",
      "4     WRIGHT BROTHERS CONSTRUCTION COMPANY, INC.         0.0        0.0   \n",
      "...                                          ...         ...        ...   \n",
      "4940  WRIGHT BROTHERS CONSTRUCTION COMPANY, INC.         0.0        0.0   \n",
      "4941  WRIGHT BROTHERS CONSTRUCTION COMPANY, INC.         0.0        0.0   \n",
      "4942  WRIGHT BROTHERS CONSTRUCTION COMPANY, INC.         0.0        0.0   \n",
      "4943  WRIGHT BROTHERS CONSTRUCTION COMPANY, INC.         0.0        0.0   \n",
      "4944  WRIGHT BROTHERS CONSTRUCTION COMPANY, INC.         0.0        0.0   \n",
      "\n",
      "      Bid Tab Rankings  \n",
      "0                  1.0  \n",
      "1                  1.0  \n",
      "2                  1.0  \n",
      "3                  1.0  \n",
      "4                  1.0  \n",
      "...                ...  \n",
      "4940               1.0  \n",
      "4941               1.0  \n",
      "4942               1.0  \n",
      "4943               1.0  \n",
      "4944               1.0  \n",
      "\n",
      "[4945 rows x 7 columns], 'GEORGIA BRIDGE AND CONCRETE, LLC':               Item        Proposal  Quantity  \\\n",
      "0         001-1000  B1CBA2401581-0       0.0   \n",
      "1         001-1900  B1CBA2401581-0       0.0   \n",
      "2         001-1999  B1CBA2401581-0       0.0   \n",
      "3         001-2000  B1CBA2401581-0       0.0   \n",
      "4         001-2001  B1CBA2401581-0       0.0   \n",
      "...            ...             ...       ...   \n",
      "4940  T-901-501-01  B1CBA2401581-0       0.0   \n",
      "4941  T-901-501-02  B1CBA2401581-0       0.0   \n",
      "4942  T-904-501-01  B1CBA2401581-0       0.0   \n",
      "4943  T-905-501-01  B1CBA2401581-0       0.0   \n",
      "4944  T-905-502-01  B1CBA2401581-0       0.0   \n",
      "\n",
      "                           Vendor Name  Unit Price  Extension  \\\n",
      "0     GEORGIA BRIDGE AND CONCRETE, LLC         0.0        0.0   \n",
      "1     GEORGIA BRIDGE AND CONCRETE, LLC         0.0        0.0   \n",
      "2     GEORGIA BRIDGE AND CONCRETE, LLC         0.0        0.0   \n",
      "3     GEORGIA BRIDGE AND CONCRETE, LLC         0.0        0.0   \n",
      "4     GEORGIA BRIDGE AND CONCRETE, LLC         0.0        0.0   \n",
      "...                                ...         ...        ...   \n",
      "4940  GEORGIA BRIDGE AND CONCRETE, LLC         0.0        0.0   \n",
      "4941  GEORGIA BRIDGE AND CONCRETE, LLC         0.0        0.0   \n",
      "4942  GEORGIA BRIDGE AND CONCRETE, LLC         0.0        0.0   \n",
      "4943  GEORGIA BRIDGE AND CONCRETE, LLC         0.0        0.0   \n",
      "4944  GEORGIA BRIDGE AND CONCRETE, LLC         0.0        0.0   \n",
      "\n",
      "      Bid Tab Rankings  \n",
      "0                  2.0  \n",
      "1                  2.0  \n",
      "2                  2.0  \n",
      "3                  2.0  \n",
      "4                  2.0  \n",
      "...                ...  \n",
      "4940               2.0  \n",
      "4941               2.0  \n",
      "4942               2.0  \n",
      "4943               2.0  \n",
      "4944               2.0  \n",
      "\n",
      "[4945 rows x 7 columns], 'UNITED INFRASTRUCTURE GROUP INC.':               Item        Proposal  Quantity  \\\n",
      "0         001-1000  B1CBA2401581-0       0.0   \n",
      "1         001-1900  B1CBA2401581-0       0.0   \n",
      "2         001-1999  B1CBA2401581-0       0.0   \n",
      "3         001-2000  B1CBA2401581-0       0.0   \n",
      "4         001-2001  B1CBA2401581-0       0.0   \n",
      "...            ...             ...       ...   \n",
      "4940  T-901-501-01  B1CBA2401581-0       0.0   \n",
      "4941  T-901-501-02  B1CBA2401581-0       0.0   \n",
      "4942  T-904-501-01  B1CBA2401581-0       0.0   \n",
      "4943  T-905-501-01  B1CBA2401581-0       0.0   \n",
      "4944  T-905-502-01  B1CBA2401581-0       0.0   \n",
      "\n",
      "                           Vendor Name  Unit Price  Extension  \\\n",
      "0     UNITED INFRASTRUCTURE GROUP INC.         0.0        0.0   \n",
      "1     UNITED INFRASTRUCTURE GROUP INC.         0.0        0.0   \n",
      "2     UNITED INFRASTRUCTURE GROUP INC.         0.0        0.0   \n",
      "3     UNITED INFRASTRUCTURE GROUP INC.         0.0        0.0   \n",
      "4     UNITED INFRASTRUCTURE GROUP INC.         0.0        0.0   \n",
      "...                                ...         ...        ...   \n",
      "4940  UNITED INFRASTRUCTURE GROUP INC.         0.0        0.0   \n",
      "4941  UNITED INFRASTRUCTURE GROUP INC.         0.0        0.0   \n",
      "4942  UNITED INFRASTRUCTURE GROUP INC.         0.0        0.0   \n",
      "4943  UNITED INFRASTRUCTURE GROUP INC.         0.0        0.0   \n",
      "4944  UNITED INFRASTRUCTURE GROUP INC.         0.0        0.0   \n",
      "\n",
      "      Bid Tab Rankings  \n",
      "0                  3.0  \n",
      "1                  3.0  \n",
      "2                  3.0  \n",
      "3                  3.0  \n",
      "4                  3.0  \n",
      "...                ...  \n",
      "4940               3.0  \n",
      "4941               3.0  \n",
      "4942               3.0  \n",
      "4943               3.0  \n",
      "4944               3.0  \n",
      "\n",
      "[4945 rows x 7 columns], 'C. W. MATTHEWS CONTRACTING CO., INC.':               Item        Proposal  Quantity  \\\n",
      "0         001-1000  B1CBA2401581-0       0.0   \n",
      "1         001-1900  B1CBA2401581-0       0.0   \n",
      "2         001-1999  B1CBA2401581-0       0.0   \n",
      "3         001-2000  B1CBA2401581-0       0.0   \n",
      "4         001-2001  B1CBA2401581-0       0.0   \n",
      "...            ...             ...       ...   \n",
      "4940  T-901-501-01  B1CBA2401581-0       0.0   \n",
      "4941  T-901-501-02  B1CBA2401581-0       0.0   \n",
      "4942  T-904-501-01  B1CBA2401581-0       0.0   \n",
      "4943  T-905-501-01  B1CBA2401581-0       0.0   \n",
      "4944  T-905-502-01  B1CBA2401581-0       0.0   \n",
      "\n",
      "                               Vendor Name  Unit Price  Extension  \\\n",
      "0     C. W. MATTHEWS CONTRACTING CO., INC.         0.0        0.0   \n",
      "1     C. W. MATTHEWS CONTRACTING CO., INC.         0.0        0.0   \n",
      "2     C. W. MATTHEWS CONTRACTING CO., INC.         0.0        0.0   \n",
      "3     C. W. MATTHEWS CONTRACTING CO., INC.         0.0        0.0   \n",
      "4     C. W. MATTHEWS CONTRACTING CO., INC.         0.0        0.0   \n",
      "...                                    ...         ...        ...   \n",
      "4940  C. W. MATTHEWS CONTRACTING CO., INC.         0.0        0.0   \n",
      "4941  C. W. MATTHEWS CONTRACTING CO., INC.         0.0        0.0   \n",
      "4942  C. W. MATTHEWS CONTRACTING CO., INC.         0.0        0.0   \n",
      "4943  C. W. MATTHEWS CONTRACTING CO., INC.         0.0        0.0   \n",
      "4944  C. W. MATTHEWS CONTRACTING CO., INC.         0.0        0.0   \n",
      "\n",
      "      Bid Tab Rankings  \n",
      "0                  4.0  \n",
      "1                  4.0  \n",
      "2                  4.0  \n",
      "3                  4.0  \n",
      "4                  4.0  \n",
      "...                ...  \n",
      "4940               4.0  \n",
      "4941               4.0  \n",
      "4942               4.0  \n",
      "4943               4.0  \n",
      "4944               4.0  \n",
      "\n",
      "[4945 rows x 7 columns]}\n"
     ]
    }
   ],
   "source": [
    "print(itemsEachContractorinProposal)"
   ]
  },
  {
   "cell_type": "code",
   "execution_count": 90,
   "id": "77a25ee9-492f-40f3-97ff-9057c0d232b4",
   "metadata": {},
   "outputs": [
    {
     "name": "stdout",
     "output_type": "stream",
     "text": [
      "Index(['Item', 'Proposal', 'Quantity', 'Vendor Name', 'Unit Price',\n",
      "       'Extension', 'Bid Tab Rankings'],\n",
      "      dtype='object')\n"
     ]
    }
   ],
   "source": [
    "print(itemsEachContractorinProposal['E. R. SNELL CONTRACTOR, INC.'].columns)"
   ]
  },
  {
   "cell_type": "code",
   "execution_count": 91,
   "id": "b9af98d5-901f-414c-93e5-3c4ba3aaaa35",
   "metadata": {},
   "outputs": [
    {
     "name": "stdout",
     "output_type": "stream",
     "text": [
      "E. R. SNELL CONTRACTOR, INC.\n",
      "B1CBA2401581-0\n",
      "2\n"
     ]
    }
   ],
   "source": [
    "# Need to flatten each dataframe of each contractor to form feature vector\n",
    "# Combine vectors to form single example and single label\n",
    "# Then iterator across all BidX contracts\n",
    "# Split into Training, Validation, and Testing from there\n",
    "\n",
    "def getContractor(dataframe: pd.DataFrame):\n",
    "    return dataframe.iat[0, 3]\n",
    "def getProposalID(dataframe: pd.DataFrame):\n",
    "    return dataframe.iat[0, 1]\n",
    "def getRanking(dataframe: pd.DataFrame):\n",
    "    return int(dataframe.iat[0, 6])\n",
    "print(getContractor(itemsEachContractorinProposal['E. R. SNELL CONTRACTOR, INC.']))\n",
    "print(getProposalID(itemsEachContractorinProposal['E. R. SNELL CONTRACTOR, INC.']))\n",
    "print(getRanking(itemsEachContractorinProposal['GEORGIA BRIDGE AND CONCRETE, LLC']))"
   ]
  },
  {
   "cell_type": "code",
   "execution_count": 95,
   "id": "ed3150f8-728a-4e5d-b506-e87a79638d22",
   "metadata": {},
   "outputs": [],
   "source": [
    "def scaleNumericColumns(contractor_name: str):\n",
    "    numeric_features = ['Quantity', 'Unit Price', 'Extension']\n",
    "    categorical_features = ['Item', 'Vendor Name', 'Bid Tab Rankings']\n",
    "    \n",
    "    preprocessor = ColumnTransformer(\n",
    "        transformers=[\n",
    "            ('num', StandardScaler(), numeric_features),\n",
    "        ])\n",
    "    pipeline = Pipeline([('preprocessor', preprocessor)])\n",
    "    \n",
    "    feature_vector = pipeline.fit_transform(itemsEachContractorinProposal[contractor_name])\n",
    "    return pd.DataFrame(feature_vector)"
   ]
  },
  {
   "cell_type": "code",
   "execution_count": 101,
   "id": "539748d9-87c5-40a4-8268-b7e5f3dd2d3d",
   "metadata": {},
   "outputs": [
    {
     "name": "stdout",
     "output_type": "stream",
     "text": [
      "       Item        Proposal  Quantity                   Vendor Name  \\\n",
      "0  001-1000  B1CBA2401581-0 -0.035475  E. R. SNELL CONTRACTOR, INC.   \n",
      "1  001-1900  B1CBA2401581-0 -0.035475  E. R. SNELL CONTRACTOR, INC.   \n",
      "2  001-1999  B1CBA2401581-0 -0.035475  E. R. SNELL CONTRACTOR, INC.   \n",
      "3  001-2000  B1CBA2401581-0 -0.035475  E. R. SNELL CONTRACTOR, INC.   \n",
      "4  001-2001  B1CBA2401581-0 -0.035475  E. R. SNELL CONTRACTOR, INC.   \n",
      "\n",
      "   Unit Price  Extension  Bid Tab Rankings  \n",
      "0   -0.022908  -0.048726               0.0  \n",
      "1   -0.022908  -0.048726               0.0  \n",
      "2   -0.022908  -0.048726               0.0  \n",
      "3   -0.022908  -0.048726               0.0  \n",
      "4   -0.022908  -0.048726               0.0  \n",
      "       Item        Proposal  Quantity  \\\n",
      "0  001-1000  B1CBA2401581-0 -0.036096   \n",
      "1  001-1900  B1CBA2401581-0 -0.036096   \n",
      "2  001-1999  B1CBA2401581-0 -0.036096   \n",
      "3  001-2000  B1CBA2401581-0 -0.036096   \n",
      "4  001-2001  B1CBA2401581-0 -0.036096   \n",
      "\n",
      "                                  Vendor Name  Unit Price  Extension  \\\n",
      "0  WRIGHT BROTHERS CONSTRUCTION COMPANY, INC.   -0.023934   -0.05309   \n",
      "1  WRIGHT BROTHERS CONSTRUCTION COMPANY, INC.   -0.023934   -0.05309   \n",
      "2  WRIGHT BROTHERS CONSTRUCTION COMPANY, INC.   -0.023934   -0.05309   \n",
      "3  WRIGHT BROTHERS CONSTRUCTION COMPANY, INC.   -0.023934   -0.05309   \n",
      "4  WRIGHT BROTHERS CONSTRUCTION COMPANY, INC.   -0.023934   -0.05309   \n",
      "\n",
      "   Bid Tab Rankings  \n",
      "0               1.0  \n",
      "1               1.0  \n",
      "2               1.0  \n",
      "3               1.0  \n",
      "4               1.0  \n",
      "       Item        Proposal  Quantity                       Vendor Name  \\\n",
      "0  001-1000  B1CBA2401581-0 -0.035942  GEORGIA BRIDGE AND CONCRETE, LLC   \n",
      "1  001-1900  B1CBA2401581-0 -0.035942  GEORGIA BRIDGE AND CONCRETE, LLC   \n",
      "2  001-1999  B1CBA2401581-0 -0.035942  GEORGIA BRIDGE AND CONCRETE, LLC   \n",
      "3  001-2000  B1CBA2401581-0 -0.035942  GEORGIA BRIDGE AND CONCRETE, LLC   \n",
      "4  001-2001  B1CBA2401581-0 -0.035942  GEORGIA BRIDGE AND CONCRETE, LLC   \n",
      "\n",
      "   Unit Price  Extension  Bid Tab Rankings  \n",
      "0   -0.022834  -0.046865               2.0  \n",
      "1   -0.022834  -0.046865               2.0  \n",
      "2   -0.022834  -0.046865               2.0  \n",
      "3   -0.022834  -0.046865               2.0  \n",
      "4   -0.022834  -0.046865               2.0  \n",
      "       Item        Proposal  Quantity                       Vendor Name  \\\n",
      "0  001-1000  B1CBA2401581-0 -0.035475  UNITED INFRASTRUCTURE GROUP INC.   \n",
      "1  001-1900  B1CBA2401581-0 -0.035475  UNITED INFRASTRUCTURE GROUP INC.   \n",
      "2  001-1999  B1CBA2401581-0 -0.035475  UNITED INFRASTRUCTURE GROUP INC.   \n",
      "3  001-2000  B1CBA2401581-0 -0.035475  UNITED INFRASTRUCTURE GROUP INC.   \n",
      "4  001-2001  B1CBA2401581-0 -0.035475  UNITED INFRASTRUCTURE GROUP INC.   \n",
      "\n",
      "   Unit Price  Extension  Bid Tab Rankings  \n",
      "0   -0.029693  -0.053984               3.0  \n",
      "1   -0.029693  -0.053984               3.0  \n",
      "2   -0.029693  -0.053984               3.0  \n",
      "3   -0.029693  -0.053984               3.0  \n",
      "4   -0.029693  -0.053984               3.0  \n",
      "       Item        Proposal  Quantity                           Vendor Name  \\\n",
      "0  001-1000  B1CBA2401581-0 -0.035942  C. W. MATTHEWS CONTRACTING CO., INC.   \n",
      "1  001-1900  B1CBA2401581-0 -0.035942  C. W. MATTHEWS CONTRACTING CO., INC.   \n",
      "2  001-1999  B1CBA2401581-0 -0.035942  C. W. MATTHEWS CONTRACTING CO., INC.   \n",
      "3  001-2000  B1CBA2401581-0 -0.035942  C. W. MATTHEWS CONTRACTING CO., INC.   \n",
      "4  001-2001  B1CBA2401581-0 -0.035942  C. W. MATTHEWS CONTRACTING CO., INC.   \n",
      "\n",
      "   Unit Price  Extension  Bid Tab Rankings  \n",
      "0   -0.021915  -0.046337               4.0  \n",
      "1   -0.021915  -0.046337               4.0  \n",
      "2   -0.021915  -0.046337               4.0  \n",
      "3   -0.021915  -0.046337               4.0  \n",
      "4   -0.021915  -0.046337               4.0  \n"
     ]
    }
   ],
   "source": [
    "proposalScaledNumeric = pd.DataFrame()\n",
    "for contractorname, dataframe in itemsEachContractorinProposal.items():\n",
    "    feature_df = scaleNumericColumns(contractorname)\n",
    "    scaledNumericDF = dataframe\n",
    "    scaledNumericDF[\"Quantity\"] = feature_df[0]\n",
    "    scaledNumericDF[\"Unit Price\"] = feature_df[1]\n",
    "    scaledNumericDF[\"Extension\"] = feature_df[2]\n",
    "    print(scaledNumericDF.head())\n",
    "    proposalScaledNumeric = pd.concat([proposalScaledNumeric, scaledNumericDF], axis=0)\n"
   ]
  },
  {
   "cell_type": "code",
   "execution_count": 102,
   "id": "d6fa96cc-b4e6-4a40-989c-b0920b330df6",
   "metadata": {},
   "outputs": [
    {
     "data": {
      "text/plain": [
       "(24725, 7)"
      ]
     },
     "execution_count": 102,
     "metadata": {},
     "output_type": "execute_result"
    }
   ],
   "source": [
    "proposalScaledNumeric.shape"
   ]
  },
  {
   "cell_type": "code",
   "execution_count": 103,
   "id": "16df35ba-05fd-4b7b-8e1d-a9c1f93fe68d",
   "metadata": {},
   "outputs": [
    {
     "name": "stdout",
     "output_type": "stream",
     "text": [
      "Index(['Item', 'Proposal', 'Quantity', 'Vendor Name', 'Unit Price',\n",
      "       'Extension', 'Bid Tab Rankings'],\n",
      "      dtype='object')\n"
     ]
    }
   ],
   "source": [
    "print(proposalScaledNumeric.columns)"
   ]
  },
  {
   "cell_type": "code",
   "execution_count": 107,
   "id": "23c76174-af59-4d30-a760-c9013abd7e34",
   "metadata": {},
   "outputs": [],
   "source": [
    "def encodeCategoricalColumns(dataframe):\n",
    "    numeric_features = ['Quantity', 'Unit Price', 'Extension']\n",
    "    categorical_features = ['Item', 'Vendor Name', 'Bid Tab Rankings']\n",
    "    item_encoder = LabelEncoder()\n",
    "    dataframe['Item'] = item_encoder.fit_transform(dataframe['Item'])\n",
    "    vendor_encoder = OneHotEncoder(drop='first', sparse_output=False)\n",
    "    preprocessor = ColumnTransformer(\n",
    "        transformers=[\n",
    "            ('vendor_encoder', vendor_encoder, ['Vendor Name']),\n",
    "            ('num', 'passthrough', ['Item','Proposal', 'Quantity', 'Unit Price', 'Extension'])\n",
    "        ])\n",
    "    pipeline = Pipeline([('preprocessor', preprocessor)])\n",
    "    encoded_data = pipeline.fit_transform(dataframe)\n",
    "\n",
    "    \n",
    "    return pd.DataFrame(encoded_data)"
   ]
  },
  {
   "cell_type": "code",
   "execution_count": 108,
   "id": "6fdf52f4-0a60-4575-9f3c-2623c94aa5d7",
   "metadata": {},
   "outputs": [
    {
     "ename": "TypeError",
     "evalue": "LabelEncoder.fit_transform() takes 2 positional arguments but 3 were given",
     "output_type": "error",
     "traceback": [
      "\u001b[0;31m---------------------------------------------------------------------------\u001b[0m",
      "\u001b[0;31mTypeError\u001b[0m                                 Traceback (most recent call last)",
      "Cell \u001b[0;32mIn[108], line 1\u001b[0m\n\u001b[0;32m----> 1\u001b[0m encodedDataFrame \u001b[38;5;241m=\u001b[39m \u001b[43mencodeCategoricalColumns\u001b[49m\u001b[43m(\u001b[49m\u001b[43mproposalScaledNumeric\u001b[49m\u001b[43m)\u001b[49m\n",
      "Cell \u001b[0;32mIn[107], line 13\u001b[0m, in \u001b[0;36mencodeCategoricalColumns\u001b[0;34m(dataframe)\u001b[0m\n\u001b[1;32m      6\u001b[0m preprocessor \u001b[38;5;241m=\u001b[39m ColumnTransformer(\n\u001b[1;32m      7\u001b[0m     transformers\u001b[38;5;241m=\u001b[39m[\n\u001b[1;32m      8\u001b[0m         (\u001b[38;5;124m'\u001b[39m\u001b[38;5;124mitem_encoder\u001b[39m\u001b[38;5;124m'\u001b[39m, item_encoder, [\u001b[38;5;124m'\u001b[39m\u001b[38;5;124mItem\u001b[39m\u001b[38;5;124m'\u001b[39m]),\n\u001b[1;32m      9\u001b[0m         (\u001b[38;5;124m'\u001b[39m\u001b[38;5;124mvendor_encoder\u001b[39m\u001b[38;5;124m'\u001b[39m, vendor_encoder, [\u001b[38;5;124m'\u001b[39m\u001b[38;5;124mVendor Name\u001b[39m\u001b[38;5;124m'\u001b[39m]),\n\u001b[1;32m     10\u001b[0m         (\u001b[38;5;124m'\u001b[39m\u001b[38;5;124mnum\u001b[39m\u001b[38;5;124m'\u001b[39m, \u001b[38;5;124m'\u001b[39m\u001b[38;5;124mpassthrough\u001b[39m\u001b[38;5;124m'\u001b[39m, [\u001b[38;5;124m'\u001b[39m\u001b[38;5;124mProposal\u001b[39m\u001b[38;5;124m'\u001b[39m, \u001b[38;5;124m'\u001b[39m\u001b[38;5;124mQuantity\u001b[39m\u001b[38;5;124m'\u001b[39m, \u001b[38;5;124m'\u001b[39m\u001b[38;5;124mUnit Price\u001b[39m\u001b[38;5;124m'\u001b[39m, \u001b[38;5;124m'\u001b[39m\u001b[38;5;124mExtension\u001b[39m\u001b[38;5;124m'\u001b[39m])\n\u001b[1;32m     11\u001b[0m     ])\n\u001b[1;32m     12\u001b[0m pipeline \u001b[38;5;241m=\u001b[39m Pipeline([(\u001b[38;5;124m'\u001b[39m\u001b[38;5;124mpreprocessor\u001b[39m\u001b[38;5;124m'\u001b[39m, preprocessor)])\n\u001b[0;32m---> 13\u001b[0m encoded_data \u001b[38;5;241m=\u001b[39m \u001b[43mpipeline\u001b[49m\u001b[38;5;241;43m.\u001b[39;49m\u001b[43mfit_transform\u001b[49m\u001b[43m(\u001b[49m\u001b[43mdataframe\u001b[49m\u001b[43m)\u001b[49m\n\u001b[1;32m     16\u001b[0m \u001b[38;5;28;01mreturn\u001b[39;00m pd\u001b[38;5;241m.\u001b[39mDataFrame(encoded_data)\n",
      "File \u001b[0;32m~/.pyenv/versions/Edgevanta/lib/python3.10/site-packages/sklearn/base.py:1473\u001b[0m, in \u001b[0;36m_fit_context.<locals>.decorator.<locals>.wrapper\u001b[0;34m(estimator, *args, **kwargs)\u001b[0m\n\u001b[1;32m   1466\u001b[0m     estimator\u001b[38;5;241m.\u001b[39m_validate_params()\n\u001b[1;32m   1468\u001b[0m \u001b[38;5;28;01mwith\u001b[39;00m config_context(\n\u001b[1;32m   1469\u001b[0m     skip_parameter_validation\u001b[38;5;241m=\u001b[39m(\n\u001b[1;32m   1470\u001b[0m         prefer_skip_nested_validation \u001b[38;5;129;01mor\u001b[39;00m global_skip_validation\n\u001b[1;32m   1471\u001b[0m     )\n\u001b[1;32m   1472\u001b[0m ):\n\u001b[0;32m-> 1473\u001b[0m     \u001b[38;5;28;01mreturn\u001b[39;00m \u001b[43mfit_method\u001b[49m\u001b[43m(\u001b[49m\u001b[43mestimator\u001b[49m\u001b[43m,\u001b[49m\u001b[43m \u001b[49m\u001b[38;5;241;43m*\u001b[39;49m\u001b[43margs\u001b[49m\u001b[43m,\u001b[49m\u001b[43m \u001b[49m\u001b[38;5;241;43m*\u001b[39;49m\u001b[38;5;241;43m*\u001b[39;49m\u001b[43mkwargs\u001b[49m\u001b[43m)\u001b[49m\n",
      "File \u001b[0;32m~/.pyenv/versions/Edgevanta/lib/python3.10/site-packages/sklearn/pipeline.py:541\u001b[0m, in \u001b[0;36mPipeline.fit_transform\u001b[0;34m(self, X, y, **params)\u001b[0m\n\u001b[1;32m    539\u001b[0m last_step_params \u001b[38;5;241m=\u001b[39m routed_params[\u001b[38;5;28mself\u001b[39m\u001b[38;5;241m.\u001b[39msteps[\u001b[38;5;241m-\u001b[39m\u001b[38;5;241m1\u001b[39m][\u001b[38;5;241m0\u001b[39m]]\n\u001b[1;32m    540\u001b[0m \u001b[38;5;28;01mif\u001b[39;00m \u001b[38;5;28mhasattr\u001b[39m(last_step, \u001b[38;5;124m\"\u001b[39m\u001b[38;5;124mfit_transform\u001b[39m\u001b[38;5;124m\"\u001b[39m):\n\u001b[0;32m--> 541\u001b[0m     \u001b[38;5;28;01mreturn\u001b[39;00m \u001b[43mlast_step\u001b[49m\u001b[38;5;241;43m.\u001b[39;49m\u001b[43mfit_transform\u001b[49m\u001b[43m(\u001b[49m\n\u001b[1;32m    542\u001b[0m \u001b[43m        \u001b[49m\u001b[43mXt\u001b[49m\u001b[43m,\u001b[49m\u001b[43m \u001b[49m\u001b[43my\u001b[49m\u001b[43m,\u001b[49m\u001b[43m \u001b[49m\u001b[38;5;241;43m*\u001b[39;49m\u001b[38;5;241;43m*\u001b[39;49m\u001b[43mlast_step_params\u001b[49m\u001b[43m[\u001b[49m\u001b[38;5;124;43m\"\u001b[39;49m\u001b[38;5;124;43mfit_transform\u001b[39;49m\u001b[38;5;124;43m\"\u001b[39;49m\u001b[43m]\u001b[49m\n\u001b[1;32m    543\u001b[0m \u001b[43m    \u001b[49m\u001b[43m)\u001b[49m\n\u001b[1;32m    544\u001b[0m \u001b[38;5;28;01melse\u001b[39;00m:\n\u001b[1;32m    545\u001b[0m     \u001b[38;5;28;01mreturn\u001b[39;00m last_step\u001b[38;5;241m.\u001b[39mfit(Xt, y, \u001b[38;5;241m*\u001b[39m\u001b[38;5;241m*\u001b[39mlast_step_params[\u001b[38;5;124m\"\u001b[39m\u001b[38;5;124mfit\u001b[39m\u001b[38;5;124m\"\u001b[39m])\u001b[38;5;241m.\u001b[39mtransform(\n\u001b[1;32m    546\u001b[0m         Xt, \u001b[38;5;241m*\u001b[39m\u001b[38;5;241m*\u001b[39mlast_step_params[\u001b[38;5;124m\"\u001b[39m\u001b[38;5;124mtransform\u001b[39m\u001b[38;5;124m\"\u001b[39m]\n\u001b[1;32m    547\u001b[0m     )\n",
      "File \u001b[0;32m~/.pyenv/versions/Edgevanta/lib/python3.10/site-packages/sklearn/utils/_set_output.py:313\u001b[0m, in \u001b[0;36m_wrap_method_output.<locals>.wrapped\u001b[0;34m(self, X, *args, **kwargs)\u001b[0m\n\u001b[1;32m    311\u001b[0m \u001b[38;5;129m@wraps\u001b[39m(f)\n\u001b[1;32m    312\u001b[0m \u001b[38;5;28;01mdef\u001b[39;00m \u001b[38;5;21mwrapped\u001b[39m(\u001b[38;5;28mself\u001b[39m, X, \u001b[38;5;241m*\u001b[39margs, \u001b[38;5;241m*\u001b[39m\u001b[38;5;241m*\u001b[39mkwargs):\n\u001b[0;32m--> 313\u001b[0m     data_to_wrap \u001b[38;5;241m=\u001b[39m \u001b[43mf\u001b[49m\u001b[43m(\u001b[49m\u001b[38;5;28;43mself\u001b[39;49m\u001b[43m,\u001b[49m\u001b[43m \u001b[49m\u001b[43mX\u001b[49m\u001b[43m,\u001b[49m\u001b[43m \u001b[49m\u001b[38;5;241;43m*\u001b[39;49m\u001b[43margs\u001b[49m\u001b[43m,\u001b[49m\u001b[43m \u001b[49m\u001b[38;5;241;43m*\u001b[39;49m\u001b[38;5;241;43m*\u001b[39;49m\u001b[43mkwargs\u001b[49m\u001b[43m)\u001b[49m\n\u001b[1;32m    314\u001b[0m     \u001b[38;5;28;01mif\u001b[39;00m \u001b[38;5;28misinstance\u001b[39m(data_to_wrap, \u001b[38;5;28mtuple\u001b[39m):\n\u001b[1;32m    315\u001b[0m         \u001b[38;5;66;03m# only wrap the first output for cross decomposition\u001b[39;00m\n\u001b[1;32m    316\u001b[0m         return_tuple \u001b[38;5;241m=\u001b[39m (\n\u001b[1;32m    317\u001b[0m             _wrap_data_with_container(method, data_to_wrap[\u001b[38;5;241m0\u001b[39m], X, \u001b[38;5;28mself\u001b[39m),\n\u001b[1;32m    318\u001b[0m             \u001b[38;5;241m*\u001b[39mdata_to_wrap[\u001b[38;5;241m1\u001b[39m:],\n\u001b[1;32m    319\u001b[0m         )\n",
      "File \u001b[0;32m~/.pyenv/versions/Edgevanta/lib/python3.10/site-packages/sklearn/base.py:1473\u001b[0m, in \u001b[0;36m_fit_context.<locals>.decorator.<locals>.wrapper\u001b[0;34m(estimator, *args, **kwargs)\u001b[0m\n\u001b[1;32m   1466\u001b[0m     estimator\u001b[38;5;241m.\u001b[39m_validate_params()\n\u001b[1;32m   1468\u001b[0m \u001b[38;5;28;01mwith\u001b[39;00m config_context(\n\u001b[1;32m   1469\u001b[0m     skip_parameter_validation\u001b[38;5;241m=\u001b[39m(\n\u001b[1;32m   1470\u001b[0m         prefer_skip_nested_validation \u001b[38;5;129;01mor\u001b[39;00m global_skip_validation\n\u001b[1;32m   1471\u001b[0m     )\n\u001b[1;32m   1472\u001b[0m ):\n\u001b[0;32m-> 1473\u001b[0m     \u001b[38;5;28;01mreturn\u001b[39;00m \u001b[43mfit_method\u001b[49m\u001b[43m(\u001b[49m\u001b[43mestimator\u001b[49m\u001b[43m,\u001b[49m\u001b[43m \u001b[49m\u001b[38;5;241;43m*\u001b[39;49m\u001b[43margs\u001b[49m\u001b[43m,\u001b[49m\u001b[43m \u001b[49m\u001b[38;5;241;43m*\u001b[39;49m\u001b[38;5;241;43m*\u001b[39;49m\u001b[43mkwargs\u001b[49m\u001b[43m)\u001b[49m\n",
      "File \u001b[0;32m~/.pyenv/versions/Edgevanta/lib/python3.10/site-packages/sklearn/compose/_column_transformer.py:976\u001b[0m, in \u001b[0;36mColumnTransformer.fit_transform\u001b[0;34m(self, X, y, **params)\u001b[0m\n\u001b[1;32m    973\u001b[0m \u001b[38;5;28;01melse\u001b[39;00m:\n\u001b[1;32m    974\u001b[0m     routed_params \u001b[38;5;241m=\u001b[39m \u001b[38;5;28mself\u001b[39m\u001b[38;5;241m.\u001b[39m_get_empty_routing()\n\u001b[0;32m--> 976\u001b[0m result \u001b[38;5;241m=\u001b[39m \u001b[38;5;28;43mself\u001b[39;49m\u001b[38;5;241;43m.\u001b[39;49m\u001b[43m_call_func_on_transformers\u001b[49m\u001b[43m(\u001b[49m\n\u001b[1;32m    977\u001b[0m \u001b[43m    \u001b[49m\u001b[43mX\u001b[49m\u001b[43m,\u001b[49m\n\u001b[1;32m    978\u001b[0m \u001b[43m    \u001b[49m\u001b[43my\u001b[49m\u001b[43m,\u001b[49m\n\u001b[1;32m    979\u001b[0m \u001b[43m    \u001b[49m\u001b[43m_fit_transform_one\u001b[49m\u001b[43m,\u001b[49m\n\u001b[1;32m    980\u001b[0m \u001b[43m    \u001b[49m\u001b[43mcolumn_as_labels\u001b[49m\u001b[38;5;241;43m=\u001b[39;49m\u001b[38;5;28;43;01mFalse\u001b[39;49;00m\u001b[43m,\u001b[49m\n\u001b[1;32m    981\u001b[0m \u001b[43m    \u001b[49m\u001b[43mrouted_params\u001b[49m\u001b[38;5;241;43m=\u001b[39;49m\u001b[43mrouted_params\u001b[49m\u001b[43m,\u001b[49m\n\u001b[1;32m    982\u001b[0m \u001b[43m\u001b[49m\u001b[43m)\u001b[49m\n\u001b[1;32m    984\u001b[0m \u001b[38;5;28;01mif\u001b[39;00m \u001b[38;5;129;01mnot\u001b[39;00m result:\n\u001b[1;32m    985\u001b[0m     \u001b[38;5;28mself\u001b[39m\u001b[38;5;241m.\u001b[39m_update_fitted_transformers([])\n",
      "File \u001b[0;32m~/.pyenv/versions/Edgevanta/lib/python3.10/site-packages/sklearn/compose/_column_transformer.py:885\u001b[0m, in \u001b[0;36mColumnTransformer._call_func_on_transformers\u001b[0;34m(self, X, y, func, column_as_labels, routed_params)\u001b[0m\n\u001b[1;32m    873\u001b[0m             extra_args \u001b[38;5;241m=\u001b[39m {}\n\u001b[1;32m    874\u001b[0m         jobs\u001b[38;5;241m.\u001b[39mappend(\n\u001b[1;32m    875\u001b[0m             delayed(func)(\n\u001b[1;32m    876\u001b[0m                 transformer\u001b[38;5;241m=\u001b[39mclone(trans) \u001b[38;5;28;01mif\u001b[39;00m \u001b[38;5;129;01mnot\u001b[39;00m fitted \u001b[38;5;28;01melse\u001b[39;00m trans,\n\u001b[0;32m   (...)\u001b[0m\n\u001b[1;32m    882\u001b[0m             )\n\u001b[1;32m    883\u001b[0m         )\n\u001b[0;32m--> 885\u001b[0m     \u001b[38;5;28;01mreturn\u001b[39;00m \u001b[43mParallel\u001b[49m\u001b[43m(\u001b[49m\u001b[43mn_jobs\u001b[49m\u001b[38;5;241;43m=\u001b[39;49m\u001b[38;5;28;43mself\u001b[39;49m\u001b[38;5;241;43m.\u001b[39;49m\u001b[43mn_jobs\u001b[49m\u001b[43m)\u001b[49m\u001b[43m(\u001b[49m\u001b[43mjobs\u001b[49m\u001b[43m)\u001b[49m\n\u001b[1;32m    887\u001b[0m \u001b[38;5;28;01mexcept\u001b[39;00m \u001b[38;5;167;01mValueError\u001b[39;00m \u001b[38;5;28;01mas\u001b[39;00m e:\n\u001b[1;32m    888\u001b[0m     \u001b[38;5;28;01mif\u001b[39;00m \u001b[38;5;124m\"\u001b[39m\u001b[38;5;124mExpected 2D array, got 1D array instead\u001b[39m\u001b[38;5;124m\"\u001b[39m \u001b[38;5;129;01min\u001b[39;00m \u001b[38;5;28mstr\u001b[39m(e):\n",
      "File \u001b[0;32m~/.pyenv/versions/Edgevanta/lib/python3.10/site-packages/sklearn/utils/parallel.py:74\u001b[0m, in \u001b[0;36mParallel.__call__\u001b[0;34m(self, iterable)\u001b[0m\n\u001b[1;32m     69\u001b[0m config \u001b[38;5;241m=\u001b[39m get_config()\n\u001b[1;32m     70\u001b[0m iterable_with_config \u001b[38;5;241m=\u001b[39m (\n\u001b[1;32m     71\u001b[0m     (_with_config(delayed_func, config), args, kwargs)\n\u001b[1;32m     72\u001b[0m     \u001b[38;5;28;01mfor\u001b[39;00m delayed_func, args, kwargs \u001b[38;5;129;01min\u001b[39;00m iterable\n\u001b[1;32m     73\u001b[0m )\n\u001b[0;32m---> 74\u001b[0m \u001b[38;5;28;01mreturn\u001b[39;00m \u001b[38;5;28;43msuper\u001b[39;49m\u001b[43m(\u001b[49m\u001b[43m)\u001b[49m\u001b[38;5;241;43m.\u001b[39;49m\u001b[38;5;21;43m__call__\u001b[39;49m\u001b[43m(\u001b[49m\u001b[43miterable_with_config\u001b[49m\u001b[43m)\u001b[49m\n",
      "File \u001b[0;32m~/.pyenv/versions/Edgevanta/lib/python3.10/site-packages/joblib/parallel.py:1918\u001b[0m, in \u001b[0;36mParallel.__call__\u001b[0;34m(self, iterable)\u001b[0m\n\u001b[1;32m   1916\u001b[0m     output \u001b[38;5;241m=\u001b[39m \u001b[38;5;28mself\u001b[39m\u001b[38;5;241m.\u001b[39m_get_sequential_output(iterable)\n\u001b[1;32m   1917\u001b[0m     \u001b[38;5;28mnext\u001b[39m(output)\n\u001b[0;32m-> 1918\u001b[0m     \u001b[38;5;28;01mreturn\u001b[39;00m output \u001b[38;5;28;01mif\u001b[39;00m \u001b[38;5;28mself\u001b[39m\u001b[38;5;241m.\u001b[39mreturn_generator \u001b[38;5;28;01melse\u001b[39;00m \u001b[38;5;28;43mlist\u001b[39;49m\u001b[43m(\u001b[49m\u001b[43moutput\u001b[49m\u001b[43m)\u001b[49m\n\u001b[1;32m   1920\u001b[0m \u001b[38;5;66;03m# Let's create an ID that uniquely identifies the current call. If the\u001b[39;00m\n\u001b[1;32m   1921\u001b[0m \u001b[38;5;66;03m# call is interrupted early and that the same instance is immediately\u001b[39;00m\n\u001b[1;32m   1922\u001b[0m \u001b[38;5;66;03m# re-used, this id will be used to prevent workers that were\u001b[39;00m\n\u001b[1;32m   1923\u001b[0m \u001b[38;5;66;03m# concurrently finalizing a task from the previous call to run the\u001b[39;00m\n\u001b[1;32m   1924\u001b[0m \u001b[38;5;66;03m# callback.\u001b[39;00m\n\u001b[1;32m   1925\u001b[0m \u001b[38;5;28;01mwith\u001b[39;00m \u001b[38;5;28mself\u001b[39m\u001b[38;5;241m.\u001b[39m_lock:\n",
      "File \u001b[0;32m~/.pyenv/versions/Edgevanta/lib/python3.10/site-packages/joblib/parallel.py:1847\u001b[0m, in \u001b[0;36mParallel._get_sequential_output\u001b[0;34m(self, iterable)\u001b[0m\n\u001b[1;32m   1845\u001b[0m \u001b[38;5;28mself\u001b[39m\u001b[38;5;241m.\u001b[39mn_dispatched_batches \u001b[38;5;241m+\u001b[39m\u001b[38;5;241m=\u001b[39m \u001b[38;5;241m1\u001b[39m\n\u001b[1;32m   1846\u001b[0m \u001b[38;5;28mself\u001b[39m\u001b[38;5;241m.\u001b[39mn_dispatched_tasks \u001b[38;5;241m+\u001b[39m\u001b[38;5;241m=\u001b[39m \u001b[38;5;241m1\u001b[39m\n\u001b[0;32m-> 1847\u001b[0m res \u001b[38;5;241m=\u001b[39m \u001b[43mfunc\u001b[49m\u001b[43m(\u001b[49m\u001b[38;5;241;43m*\u001b[39;49m\u001b[43margs\u001b[49m\u001b[43m,\u001b[49m\u001b[43m \u001b[49m\u001b[38;5;241;43m*\u001b[39;49m\u001b[38;5;241;43m*\u001b[39;49m\u001b[43mkwargs\u001b[49m\u001b[43m)\u001b[49m\n\u001b[1;32m   1848\u001b[0m \u001b[38;5;28mself\u001b[39m\u001b[38;5;241m.\u001b[39mn_completed_tasks \u001b[38;5;241m+\u001b[39m\u001b[38;5;241m=\u001b[39m \u001b[38;5;241m1\u001b[39m\n\u001b[1;32m   1849\u001b[0m \u001b[38;5;28mself\u001b[39m\u001b[38;5;241m.\u001b[39mprint_progress()\n",
      "File \u001b[0;32m~/.pyenv/versions/Edgevanta/lib/python3.10/site-packages/sklearn/utils/parallel.py:136\u001b[0m, in \u001b[0;36m_FuncWrapper.__call__\u001b[0;34m(self, *args, **kwargs)\u001b[0m\n\u001b[1;32m    134\u001b[0m     config \u001b[38;5;241m=\u001b[39m {}\n\u001b[1;32m    135\u001b[0m \u001b[38;5;28;01mwith\u001b[39;00m config_context(\u001b[38;5;241m*\u001b[39m\u001b[38;5;241m*\u001b[39mconfig):\n\u001b[0;32m--> 136\u001b[0m     \u001b[38;5;28;01mreturn\u001b[39;00m \u001b[38;5;28;43mself\u001b[39;49m\u001b[38;5;241;43m.\u001b[39;49m\u001b[43mfunction\u001b[49m\u001b[43m(\u001b[49m\u001b[38;5;241;43m*\u001b[39;49m\u001b[43margs\u001b[49m\u001b[43m,\u001b[49m\u001b[43m \u001b[49m\u001b[38;5;241;43m*\u001b[39;49m\u001b[38;5;241;43m*\u001b[39;49m\u001b[43mkwargs\u001b[49m\u001b[43m)\u001b[49m\n",
      "File \u001b[0;32m~/.pyenv/versions/Edgevanta/lib/python3.10/site-packages/sklearn/pipeline.py:1310\u001b[0m, in \u001b[0;36m_fit_transform_one\u001b[0;34m(transformer, X, y, weight, message_clsname, message, params)\u001b[0m\n\u001b[1;32m   1308\u001b[0m \u001b[38;5;28;01mwith\u001b[39;00m _print_elapsed_time(message_clsname, message):\n\u001b[1;32m   1309\u001b[0m     \u001b[38;5;28;01mif\u001b[39;00m \u001b[38;5;28mhasattr\u001b[39m(transformer, \u001b[38;5;124m\"\u001b[39m\u001b[38;5;124mfit_transform\u001b[39m\u001b[38;5;124m\"\u001b[39m):\n\u001b[0;32m-> 1310\u001b[0m         res \u001b[38;5;241m=\u001b[39m \u001b[43mtransformer\u001b[49m\u001b[38;5;241;43m.\u001b[39;49m\u001b[43mfit_transform\u001b[49m\u001b[43m(\u001b[49m\u001b[43mX\u001b[49m\u001b[43m,\u001b[49m\u001b[43m \u001b[49m\u001b[43my\u001b[49m\u001b[43m,\u001b[49m\u001b[43m \u001b[49m\u001b[38;5;241;43m*\u001b[39;49m\u001b[38;5;241;43m*\u001b[39;49m\u001b[43mparams\u001b[49m\u001b[38;5;241;43m.\u001b[39;49m\u001b[43mget\u001b[49m\u001b[43m(\u001b[49m\u001b[38;5;124;43m\"\u001b[39;49m\u001b[38;5;124;43mfit_transform\u001b[39;49m\u001b[38;5;124;43m\"\u001b[39;49m\u001b[43m,\u001b[49m\u001b[43m \u001b[49m\u001b[43m{\u001b[49m\u001b[43m}\u001b[49m\u001b[43m)\u001b[49m\u001b[43m)\u001b[49m\n\u001b[1;32m   1311\u001b[0m     \u001b[38;5;28;01melse\u001b[39;00m:\n\u001b[1;32m   1312\u001b[0m         res \u001b[38;5;241m=\u001b[39m transformer\u001b[38;5;241m.\u001b[39mfit(X, y, \u001b[38;5;241m*\u001b[39m\u001b[38;5;241m*\u001b[39mparams\u001b[38;5;241m.\u001b[39mget(\u001b[38;5;124m\"\u001b[39m\u001b[38;5;124mfit\u001b[39m\u001b[38;5;124m\"\u001b[39m, {}))\u001b[38;5;241m.\u001b[39mtransform(\n\u001b[1;32m   1313\u001b[0m             X, \u001b[38;5;241m*\u001b[39m\u001b[38;5;241m*\u001b[39mparams\u001b[38;5;241m.\u001b[39mget(\u001b[38;5;124m\"\u001b[39m\u001b[38;5;124mtransform\u001b[39m\u001b[38;5;124m\"\u001b[39m, {})\n\u001b[1;32m   1314\u001b[0m         )\n",
      "\u001b[0;31mTypeError\u001b[0m: LabelEncoder.fit_transform() takes 2 positional arguments but 3 were given"
     ]
    }
   ],
   "source": [
    "encodedDataFrame = encodeCategoricalColumns(proposalScaledNumeric)"
   ]
  },
  {
   "cell_type": "code",
   "execution_count": null,
   "id": "02136a9d-ff1f-488c-b14f-86abfa8196fb",
   "metadata": {},
   "outputs": [],
   "source": []
  }
 ],
 "metadata": {
  "kernelspec": {
   "display_name": "Python 3 (ipykernel)",
   "language": "python",
   "name": "python3"
  },
  "language_info": {
   "codemirror_mode": {
    "name": "ipython",
    "version": 3
   },
   "file_extension": ".py",
   "mimetype": "text/x-python",
   "name": "python",
   "nbconvert_exporter": "python",
   "pygments_lexer": "ipython3",
   "version": "3.10.14"
  }
 },
 "nbformat": 4,
 "nbformat_minor": 5
}
