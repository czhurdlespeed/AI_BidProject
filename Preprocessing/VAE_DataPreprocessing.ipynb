{
 "cells": [
  {
   "cell_type": "code",
   "execution_count": 1,
   "id": "d022649b-cee9-4e2e-bf47-bc5f9956a7f4",
   "metadata": {},
   "outputs": [],
   "source": [
    "import os \n",
    "import pandas as pd\n",
    "import string\n",
    "from typing import List\n",
    "from datetime import datetime\n",
    "import re\n",
    "import numpy as np\n",
    "import hashlib\n",
    "import json\n",
    "from itertools import combinations, permutations\n",
    "from sklearn.preprocessing import StandardScaler\n",
    "from tqdm.notebook import tqdm"
   ]
  },
  {
   "cell_type": "code",
   "execution_count": 2,
   "id": "c881b746-cfd0-43a3-811a-41fc2e682aa7",
   "metadata": {},
   "outputs": [],
   "source": [
    "def returnSortedCSVList(csv_directory: str) -> List:\n",
    "    sortedfilelist = list()\n",
    "    def sort_key(filename):\n",
    "        underscoreindex = filename.index('_')\n",
    "        return filename[underscoreindex+1:-4]\n",
    "    for dirpath, dirnames, filenames in os.walk(csv_directory):\n",
    "        dirnames.sort()\n",
    "        sorted_files = sorted(filenames, key=sort_key)\n",
    "        sorted_files_with_paths = [os.path.join(dirpath, f) for f in sorted_files]\n",
    "        if sorted_files_with_paths:\n",
    "            sortedfilelist += sorted_files_with_paths\n",
    "    return sortedfilelist"
   ]
  },
  {
   "cell_type": "code",
   "execution_count": 3,
   "id": "6a2f0a54-1820-4d60-a353-e067941253d4",
   "metadata": {},
   "outputs": [],
   "source": [
    "def findFileNameTimeStamp(csv_file: str) -> str:\n",
    "    short_index = csv_file.index('B')\n",
    "    shortfilename = csv_file[short_index:]\n",
    "    underscore_index = shortfilename.index('_')\n",
    "    datestring = shortfilename[underscore_index+1:-4]\n",
    "    digits = re.findall(r'\\d+', datestring)\n",
    "    finaldatedigits = ''.join(digits)\n",
    "    return int(finaldatedigits)"
   ]
  },
  {
   "cell_type": "code",
   "execution_count": 4,
   "id": "089d313e-83b7-418d-8589-782b98db62b5",
   "metadata": {},
   "outputs": [],
   "source": [
    "def convertRAWcsvtoDF(csv_file: str) -> pd.DataFrame:\n",
    "    rawcsvDF = pd.read_csv(csv_file)\n",
    "    rawcsvDF[\"Closing Date\"] = datetime.fromtimestamp(findFileNameTimeStamp(csv_file))\n",
    "    return rawcsvDF"
   ]
  },
  {
   "cell_type": "code",
   "execution_count": 5,
   "id": "34afacbe-55f7-415d-acd6-5ff08ae6dff4",
   "metadata": {},
   "outputs": [],
   "source": [
    "def keepColumnsforFeatureVector(csvDF: pd.DataFrame) -> pd.DataFrame:\n",
    "    csvDF[\"Closing Date\"] = pd.to_datetime(csvDF[\"Closing Date\"]).dt.date\n",
    "    slimmedDF = csvDF.loc[:,[\"Proposal\", \"Item\", \"Quantity\", \"Vendor Name\", \"Bidder ID\", \"Unit Price\", \"Extension\", \"Closing Date\"]]\n",
    "    return slimmedDF\n",
    "   "
   ]
  },
  {
   "cell_type": "code",
   "execution_count": 6,
   "id": "904b6bef-7032-4f89-8f6e-8eb05d172a5c",
   "metadata": {},
   "outputs": [],
   "source": [
    "def cleanDollarColumns(csvDF: pd.DataFrame) -> pd.DataFrame:\n",
    "    csvDF[\"Unit Price\"] = csvDF[\"Unit Price\"].astype(str).str.replace(r'[^\\d.]', '', regex=True).astype(float)\n",
    "    csvDF[\"Quantity\"] = csvDF[\"Quantity\"].astype(str).str.replace(r'[^\\d.]', '', regex=True).astype(float)\n",
    "    csvDF[\"Extension\"] = csvDF[\"Extension\"].astype(str).str.replace(r'[^\\d.]', '', regex=True).astype(float)\n",
    "    return csvDF"
   ]
  },
  {
   "cell_type": "code",
   "execution_count": 7,
   "id": "6666f50d-48dd-4ca4-aa63-c334e91a176a",
   "metadata": {},
   "outputs": [],
   "source": [
    "def BidderIDtoNumber(id_string: str)-> int:\n",
    "    hash_object = hashlib.sha256(id_string.encode())\n",
    "    hash_hex = hash_object.hexdigest()\n",
    "    return int(hash_hex[:16], 16)\n",
    "def convertBidderIDColumntoNumberID(csvDF: pd.DataFrame) -> pd.DataFrame:\n",
    "    csvDF[\"Bidder ID\"] = csvDF[\"Bidder ID\"].astype(str).apply(BidderIDtoNumber)\n",
    "    return csvDF"
   ]
  },
  {
   "cell_type": "code",
   "execution_count": 8,
   "id": "84b432c9-abb5-4c34-b60b-31b596f50901",
   "metadata": {},
   "outputs": [],
   "source": [
    "def proposalVendorNameGrouping(csvDF: pd.DataFrame):\n",
    "    return csvDF.groupby('Vendor Name')"
   ]
  },
  {
   "cell_type": "code",
   "execution_count": 9,
   "id": "c9f92196-9134-4e39-ae49-386d8b68bff7",
   "metadata": {},
   "outputs": [],
   "source": [
    "def VendorNameBidderIDdict(csvDF: pd.DataFrame, vendorNameBidderIDmapping: dict) -> dict:\n",
    "    groupedVendors = proposalVendorNameGrouping(csvDF)\n",
    "    for name, group in groupedVendors:\n",
    "        vendorNameBidderIDmapping[name] = group[\"Bidder ID\"].iloc[0]\n",
    "    return vendorNameBidderIDmapping"
   ]
  },
  {
   "cell_type": "code",
   "execution_count": 10,
   "id": "cd7c53ac-bf0e-401e-b300-fd683d77565e",
   "metadata": {},
   "outputs": [],
   "source": [
    "def getProposalCode(csvDF: pd.DataFrame) -> str:\n",
    "    return csvDF['Proposal'].iloc[0]\n",
    "\n",
    "def getClosingDate(csvDF: pd.DataFrame) -> int:\n",
    "    return round(csvDF[\"Closing Date\"].iloc[0].toordinal())\n",
    "\n",
    "def getBidderID(csvDF: pd.DataFrame) -> int:\n",
    "    return csvDF[\"Bidder ID\"].iloc[0]\n",
    "\n",
    "def getContractorTotalBidAmount(csvDF: pd.DataFrame) -> float:\n",
    "    return csvDF[\"Extension\"].sum()\n",
    "\n",
    "def getContractorName(csvDF: pd.DataFrame) -> str:\n",
    "    return csvDF[\"Vendor Name\"].iloc[0]\n",
    "\n",
    "def getNumberofContractorsBidding(groupofBidders) -> int:\n",
    "    return len(groupofBidders)"
   ]
  },
  {
   "cell_type": "code",
   "execution_count": 11,
   "id": "c04c8273-e2f3-4e2f-b90d-8c91d8500d7e",
   "metadata": {},
   "outputs": [],
   "source": [
    "def combineDuplicatedProposalItems(csvDF: pd.DataFrame) -> pd.DataFrame:\n",
    "\n",
    "    def process_group(group):\n",
    "        duplicatedItems = group[group[\"Item\"].duplicated(keep=False)]\n",
    "        \n",
    "        if duplicatedItems.empty:\n",
    "            return group\n",
    "    \n",
    "        grouped = duplicatedItems.groupby(\"Item\").agg({\n",
    "            \"Quantity\": \"sum\",\n",
    "            \"Unit Price\": lambda x: np.average(x, weights=duplicatedItems.loc[x.index, \"Quantity\"]), # weighted average\n",
    "            \"Extension\": \"sum\"\n",
    "        }).reset_index()\n",
    "        \n",
    "        mergedRows = duplicatedItems.drop_duplicates(subset=\"Item\").merge(\n",
    "            grouped, on=\"Item\", suffixes=('', '_new')\n",
    "        )\n",
    "        \n",
    "        mergedRows[\"Quantity\"] = mergedRows[\"Quantity_new\"]\n",
    "        mergedRows[\"Unit Price\"] = mergedRows[\"Unit Price_new\"]\n",
    "        mergedRows[\"Extension\"] = mergedRows[\"Extension_new\"]\n",
    "        mergedRows = mergedRows.drop(columns=[\"Quantity_new\", \"Unit Price_new\", \"Extension_new\"])\n",
    "        \n",
    "        withoutDuplicatedDF = group[~group[\"Item\"].duplicated(keep='first')].dropna(subset=[\"Item\"])\n",
    "        \n",
    "        finalDF = pd.concat([withoutDuplicatedDF, mergedRows]).drop_duplicates(subset=\"Item\", keep=\"last\")\n",
    "        \n",
    "        return finalDF\n",
    "         \n",
    "    vendorNamegrouping = csvDF.groupby(\"Vendor Name\")\n",
    "    processed_groups = []\n",
    "    for name, group in vendorNamegrouping:\n",
    "        processed_group = process_group(group)\n",
    "        processed_groups.append(processed_group)\n",
    "\n",
    "\n",
    "    finalDF = pd.concat(processed_groups).reset_index(drop=True)\n",
    "\n",
    "    \n",
    "    return finalDF"
   ]
  },
  {
   "cell_type": "code",
   "execution_count": 12,
   "id": "6479f216-232c-4c4c-8169-95210f0f6eb3",
   "metadata": {},
   "outputs": [],
   "source": [
    "def contractorDesiredCompetitorPerms(proposalcontractors: dict):\n",
    "    allVendors = list(proposalcontractors.keys())\n",
    "    vendorPerms = list(permutations(allVendors, 2))\n",
    "    return vendorPerms\n",
    "#proposalcontractors = {name: group.to_dict('records') for name, group in duplicatesRemovedBidTab.groupby(\"Vendor Name\")}\n",
    "\n",
    "#result = contractorDesiredCompetitorPerms(proposalcontractors)\n",
    "#print(result)\n",
    "#print(len(proposalcontractors))"
   ]
  },
  {
   "cell_type": "code",
   "execution_count": 13,
   "id": "00604feb-905d-4832-acef-075742a8ef38",
   "metadata": {},
   "outputs": [],
   "source": [
    "def combinewithGADOTLineItems(csvDF: pd.DataFrame) -> dict:\n",
    "    contractorsINproposal = dict()\n",
    "    vendorNamegrouping = proposalVendorNameGrouping(csvDF)\n",
    "    GADOT_ITEMS = pd.read_csv(\"../PayItemIndex_2021.csv\").drop(columns=[\"UNITS\", \"LS UNITS\", \"DESCRIPTION\"])\n",
    "    proposalcode = getProposalCode(csvDF)\n",
    "    closingdate = getClosingDate(csvDF)\n",
    "    for name, group in vendorNamegrouping:\n",
    "        bidderID = getBidderID(group)\n",
    "        contractorname = getContractorName(group)\n",
    "        numberofContractorsBidding = getNumberofContractorsBidding(vendorNamegrouping)\n",
    "        if numberofContractorsBidding == 1: # don't want contracts with only one bidder\n",
    "            continue\n",
    "        mergedAllItems = pd.merge(GADOT_ITEMS[GADOT_ITEMS[\"ITEM NO.\"].isin(eligiblelineitemsEverBidon)], group, \n",
    "                          left_on=\"ITEM NO.\", right_on=\"Item\", how=\"left\")\n",
    "\n",
    "        # Sort the DataFrame based on \"ITEM NO.\"\n",
    "        mergedAllItems = mergedAllItems.sort_values(\"ITEM NO.\")\n",
    "    \n",
    "        # Now drop the unnecessary columns and reset the index\n",
    "        mergedAllItems = mergedAllItems.drop(columns=[\"Proposal\", \"Vendor Name\", \"Bidder ID\", \"Closing Date\", \"Item\", \"ITEM NO.\"]).reset_index(drop=True)\n",
    "        mergedAllItems = mergedAllItems.astype(float).fillna(0)\n",
    "       \n",
    "        #print(f\"Len Merged All Items: {len(mergedAllItems)}\")\n",
    "        totalBidAmount = getContractorTotalBidAmount(mergedAllItems)\n",
    "        mergedAllItems = mergedAllItems.drop(columns=[\"Extension\"])\n",
    "        #mergedAllItems = extractOnlyItemsEverBidOn(mergedAllItems, eligiblelineitemsEverBidon)\n",
    "        #print(f\"Potential Line items: {len(mergedAllItems)}\")\n",
    "        contractorsINproposal[contractorname] = {\"Line Items\":mergedAllItems}\n",
    "    \n",
    "    group_one_hot = get_one_hot_encodingGroupofContractors(vendorNamegrouping.groups.keys())\n",
    "    \n",
    "    for contractor, lineitems in contractorsINproposal.items():\n",
    "        singlecontractor_one_hot = get_one_hot_encodingSingleContractor(contractor)\n",
    "        contractorsINproposal[contractor][\"Contractor One Hot\"] = singlecontractor_one_hot\n",
    "        contractorsINproposal[contractor][\"Competitors One Hot\"] = group_one_hot\n",
    "        contractorsINproposal[contractor][\"Number of Competitors\"] = numberofContractorsBidding\n",
    "        contractorsINproposal[contractor][\"Quantity\"] = contractorsINproposal[contractor][\"Line Items\"][\"Quantity\"]\n",
    "        contractorsINproposal[contractor][\"Unit Price\"] = contractorsINproposal[contractor][\"Line Items\"][\"Unit Price\"]\n",
    "        \n",
    "        #print(f\"Length of solo one hot {len(singlecontractor_one_hot)}\")\n",
    "        #print(f\"{contractor}: {contractorsINproposal[contractor]['Line Items'].shape}\")\n",
    "        #print(contractorsINproposal[contractor][\"Line Items\"][contractorsINproposal[contractor][\"Line Items\"][\"Quantity\"] > 0])\n",
    "        \n",
    "   \n",
    "    #print(f\"Length of group one hot: {len(group_one_hot)}\")\n",
    "    #print(f\"Contractors Encountered: {len(vendorNameIDmapping)}\")\n",
    "    \n",
    "    return contractorsINproposal\n",
    "        "
   ]
  },
  {
   "cell_type": "code",
   "execution_count": 14,
   "id": "c8fad83a-e37e-435d-8580-fe3e6606ce52",
   "metadata": {},
   "outputs": [],
   "source": [
    "def createXexample(contractor: str, competitor: str, proposalcontractors: dict, proposalid: str, timestamp: int, countyonehot: pd.DataFrame) -> pd.DataFrame:\n",
    "    contractor_arr = np.array(proposalcontractors[contractor][\"Contractor One Hot\"], dtype=np.uint8)\n",
    "    desired_competitor_arr = np.array(get_one_hot_encodingSingleContractor(competitor), dtype=np.uint8)\n",
    "    numcompetitors_arr = np.array([proposalcontractors[contractor][\"Number of Competitors\"]], dtype=np.uint8)\n",
    "    competitors_arr = np.array(proposalcontractors[contractor][\"Competitors One Hot\"], dtype=np.uint8)\n",
    "    timestamp_arr = np.array([timestamp], dtype=np.int64)\n",
    "    counties_arr = np.array(countyonehot[proposalid], dtype=np.uint8)\n",
    "    quantities = np.array(proposalcontractors[contractor][\"Quantity\"], dtype=np.float64)\n",
    "    #print(f\"One Hot Length: {len(contractor_arr)+len(desired_competitor_arr)+len(competitors_arr)+len(counties_arr)}\") # 748 on is numerical\n",
    "\n",
    "    # Concatenate all arrays\n",
    "    feature_list = [\n",
    "        proposalid,\n",
    "        contractor,\n",
    "        competitor,\n",
    "        *contractor_arr,\n",
    "        *desired_competitor_arr,\n",
    "        *competitors_arr,\n",
    "        *counties_arr,\n",
    "        *timestamp_arr,\n",
    "        *numcompetitors_arr,\n",
    "        *quantities\n",
    "    ]\n",
    " \n",
    "    # Create column names\n",
    "    column_names = [\n",
    "        'ProposalID',\n",
    "        'Contractor',\n",
    "        'Competitor',\n",
    "        *[f'ContractorOneHot_{i}' for i in range(len(contractor_arr))],\n",
    "        *[f'DesiredCompetitorOneHot_{i}' for i in range(len(desired_competitor_arr))],\n",
    "        *[f'CompetitorsOneHot_{i}' for i in range(len(competitors_arr))],\n",
    "        *[f'County_{i}' for i in range(len(counties_arr))],\n",
    "         'Timestamp',\n",
    "        'NumberOfCompetitors',\n",
    "        *[f'Quantity_{i}' for i in range(len(quantities))]\n",
    "    ]\n",
    "\n",
    "    # Create DataFrame\n",
    "    df = pd.DataFrame([feature_list], columns=column_names)\n",
    "\n",
    "    return df\n",
    "    "
   ]
  },
  {
   "cell_type": "code",
   "execution_count": 15,
   "id": "de33150b-ae26-4674-a941-e34a3f1927da",
   "metadata": {},
   "outputs": [],
   "source": [
    "def XandYexamplesfromProposal(proposalcontractors: pd.DataFrame, proposal_id: str, timestamp: int,\n",
    "                          countyonehot: pd.DataFrame) -> dict:\n",
    "    Xexamplesfromproposal = dict()\n",
    "    Yexamplesfromproposal = dict()\n",
    "    for contractor, competitor in contractorDesiredCompetitorPerms(proposalcontractors):\n",
    "        single_example = createXexample(contractor, competitor, proposalcontractors, proposal_id, timestamp, countyonehot)\n",
    "        single_example = single_example.iloc[0]\n",
    "\n",
    "        single_y_label = createYlabel(contractor, competitor, proposalcontractors, proposal_id)\n",
    "        single_y_label = single_y_label.iloc[0]\n",
    "         # Need to create unique key for dictionary\n",
    "        Xhash_object = hashlib.sha256((proposal_id + contractor + competitor).encode())\n",
    "        Xhash_hex = Xhash_object.hexdigest()\n",
    "        Xexamplesfromproposal[Xhash_hex] = single_example\n",
    "\n",
    "        Yhash_object = hashlib.sha256((proposal_id + contractor + competitor).encode())\n",
    "        Yhash_hex = Yhash_object.hexdigest()\n",
    "        Yexamplesfromproposal[Yhash_hex] = single_y_label\n",
    "    return Xexamplesfromproposal, Yexamplesfromproposal"
   ]
  },
  {
   "cell_type": "code",
   "execution_count": 16,
   "id": "be753fee-9ced-44cb-a3bf-e933e72f0cb9",
   "metadata": {},
   "outputs": [],
   "source": [
    "def createYlabel(contractor: str, competitor: str, proposalcontractors: dict, proposal_id:str) -> dict:\n",
    "    unitprices = np.array(proposalcontractors[competitor][\"Unit Price\"], dtype=np.float64)\n",
    "\n",
    "    feature_list = [\n",
    "        proposal_id,\n",
    "        unitprices\n",
    "    ]\n",
    "    column_names = [\n",
    "        'Proposal_id',\n",
    "        'Unit Price'\n",
    "    ]\n",
    "\n",
    "    df = pd.DataFrame([feature_list], columns=column_names)\n",
    "    return df\n",
    "\n",
    "\n",
    "    "
   ]
  },
  {
   "cell_type": "code",
   "execution_count": 17,
   "id": "56dbd0c9-1266-4ee5-875f-adad2c60b9e9",
   "metadata": {},
   "outputs": [],
   "source": [
    "def get_one_indices(multi_hot_vector):\n",
    "    return np.where(np.array(multi_hot_vector) == 1)[0]"
   ]
  },
  {
   "cell_type": "code",
   "execution_count": 18,
   "id": "dc01d909-523d-473b-9786-d8453b301245",
   "metadata": {},
   "outputs": [],
   "source": [
    "def OneHotCounties() -> pd.DataFrame:\n",
    "    \"\"\"Provide Proposal Code and it returns the one hot encoding of it's counties\"\"\"\n",
    "    with open('../proposalsCounties.json', 'r') as file:\n",
    "        proposals_counties = json.load(file)\n",
    "    with open('../AllGAcounties.txt', 'r') as file:\n",
    "        all_counties = [line.strip() for line in file]\n",
    "\n",
    "    one_hot_encoded = {}\n",
    "    for proposal, counties in proposals_counties.items():\n",
    "        counties = counties.split()\n",
    "        encoded = {county.lower(): 0 for county in all_counties}\n",
    "        for county in counties:\n",
    "            if county.lower() in encoded:\n",
    "                encoded[county.lower()] = 1\n",
    "        one_hot_encoded[proposal] = encoded\n",
    "    return pd.DataFrame.from_dict(one_hot_encoded, orient='index').T"
   ]
  },
  {
   "cell_type": "code",
   "execution_count": 19,
   "id": "d4c832f3-fb7c-4f82-9140-50187083bf56",
   "metadata": {},
   "outputs": [],
   "source": [
    "def get_one_hot_encodingSingleContractor(contractorname):\n",
    "    \n",
    "    # Create a dictionary with all contractors set to 0\n",
    "    one_hot_dict = {f'{cont}': 0 for cont in vendorNameIDmapping.keys()}\n",
    "    \n",
    "    # Set the correct contractor to 1\n",
    "    one_hot_dict[f'{contractorname}'] = 1\n",
    "    \n",
    "    # Create the DataFrame all at once\n",
    "    one_hot = pd.Series(one_hot_dict)\n",
    "    \n",
    "    return one_hot"
   ]
  },
  {
   "cell_type": "code",
   "execution_count": 20,
   "id": "0d475a2c-b628-4e8a-b247-a4dac79477f7",
   "metadata": {},
   "outputs": [],
   "source": [
    "def get_one_hot_encodingGroupofContractors(listofCompetitors):\n",
    "    one_hot_dict = {f'{cont}': 0 for cont in vendorNameIDmapping.keys()}\n",
    "    for contractor in listofCompetitors:\n",
    "        one_hot_dict[f'{contractor}'] = 1\n",
    "    one_hot = pd.Series(one_hot_dict)\n",
    "\n",
    "    return one_hot"
   ]
  },
  {
   "cell_type": "code",
   "execution_count": 21,
   "id": "93cc4e36-8401-4f45-9ae5-acbee013b94d",
   "metadata": {},
   "outputs": [],
   "source": [
    "def findItemsBidOn(csvDF: pd.DataFrame) -> set:\n",
    "    cleanedBidTab = cleanDollarColumns(csvDF)\n",
    "    itemsbidon = set(cleanedBidTab[cleanedBidTab[\"Quantity\"] > 0][\"Item\"])\n",
    "    #print(f\"Number of Items bid on: {len(itemsbidon)}\")\n",
    "    return itemsbidon\n",
    "def getallGADOTItems() -> set:\n",
    "    GADOT_ITEMS = pd.read_csv(\"../PayItemIndex_2021.csv\").drop(columns=[\"UNITS\", \"LS UNITS\", \"DESCRIPTION\"])\n",
    "    items = set(GADOT_ITEMS[\"ITEM NO.\"])\n",
    "    #print(f\"Number of GADOT Items: {len(items)}\")\n",
    "    return items\n",
    "\n",
    "def extractOnlyItemsEverBidOn(proposallineitems: pd.DataFrame, eligiblelineitems: set) -> pd.DataFrame:\n",
    "    return proposallineitems[proposallineitems[\"Item\"].isin(eligiblelineitems)]"
   ]
  },
  {
   "cell_type": "code",
   "execution_count": 22,
   "id": "7fdb654f-e8dc-4fd5-be24-ac81b56cc70c",
   "metadata": {},
   "outputs": [],
   "source": [
    "## MAIN ##\n",
    "\n",
    "sortedfiles = returnSortedCSVList('../ga_csv/')\n",
    "allproposalsFeatureVectors = []\n",
    "lineitemsEverBidOn = set()\n",
    "vendorNameIDmapping = dict()\n",
    "proposal_county_one_hot = OneHotCounties()\n",
    "for file in sortedfiles:\n",
    "    rawBidTab = convertRAWcsvtoDF(file)\n",
    "    lineitemsEverBidOn |= findItemsBidOn(rawBidTab)\n",
    "    vendorNameIDmapping = VendorNameBidderIDdict(rawBidTab, vendorNameIDmapping)\n",
    "eligiblelineitemsEverBidon = getallGADOTItems() & lineitemsEverBidOn\n",
    "itemsneverBidOn = getallGADOTItems() - eligiblelineitemsEverBidon\n",
    "eligiblelineitemsEverBidon = sorted(eligiblelineitemsEverBidon)\n",
    "eligiblelineitemsEverBidonDF = pd.Series(sorted(eligiblelineitemsEverBidon))\n",
    "eligiblelineitemsEverBidonDF.to_csv(\"../eligibleBidItems.csv\", index=False)\n",
    "\n",
    "#print(f\"All Items Ever bid on: {len(eligiblelineitemsEverBidon)}\")\n",
    "#print(f\"Never Bid On: {len(itemsneverBidOn)}\")"
   ]
  },
  {
   "cell_type": "code",
   "execution_count": 23,
   "id": "c4706e75-9169-48bc-ba09-4800e9e669c2",
   "metadata": {
    "scrolled": true
   },
   "outputs": [
    {
     "data": {
      "application/vnd.jupyter.widget-view+json": {
       "model_id": "aa5f8b2f2f154afba217c6469e73cae4",
       "version_major": 2,
       "version_minor": 0
      },
      "text/plain": [
       "  0%|          | 0/1340 [00:00<?, ?it/s]"
      ]
     },
     "metadata": {},
     "output_type": "display_data"
    }
   ],
   "source": [
    "X_examples = dict()\n",
    "y_labels = dict()\n",
    "i = 0\n",
    "for file in tqdm(sortedfiles):\n",
    "    rawBidTab = convertRAWcsvtoDF(file)\n",
    "    neededcolBidTab = keepColumnsforFeatureVector(rawBidTab)\n",
    "    cleanedBidTab = cleanDollarColumns(neededcolBidTab)\n",
    "    bidderIDConvertDF = convertBidderIDColumntoNumberID(cleanedBidTab)\n",
    "    \n",
    "    proposalcode = getProposalCode(bidderIDConvertDF)\n",
    "    closingdate = getClosingDate(bidderIDConvertDF)\n",
    "    \n",
    "    duplicatesRemovedBidTab = combineDuplicatedProposalItems(bidderIDConvertDF)\n",
    "    #print(duplicatesRemovedBidTab.shape)\n",
    "    proposalcontractors = combinewithGADOTLineItems(duplicatesRemovedBidTab)\n",
    "    \n",
    "\n",
    "    proposalexamples, proposallabels = XandYexamplesfromProposal(proposalcontractors, proposalcode, closingdate, proposal_county_one_hot)\n",
    "\n",
    "    #proposalexamplesDF = pd.DataFrame.from_dict(proposalexamples, orient='index')\n",
    "   # proposallabelsDF = pd.DataFrame.from_dict(proposallabels, orient='index')\n",
    "   # print(proposalexamplesDF.head(1))\n",
    "   # print(proposallabelsDF.head(1))\n",
    "    X_examples[proposalcode] = proposalexamples\n",
    "    y_labels[proposalcode] = proposallabels\n",
    "  "
   ]
  },
  {
   "cell_type": "code",
   "execution_count": 24,
   "id": "c169a759-4060-4e8e-8f41-c74638ec64db",
   "metadata": {},
   "outputs": [],
   "source": [
    "def splitIndexLocation(X_data_dict: dict, trainingPercent: float):\n",
    "    listofbids = []\n",
    "    for proposalid, example in X_data_dict.items():\n",
    "        for rowhash, row in example.items():\n",
    "            listofbids.append(row[\"ProposalID\"])\n",
    "    indexlocation = int(len(listofbids) * trainingPercent)\n",
    "    while listofbids[indexlocation+1] == listofbids[indexlocation]:\n",
    "        indexlocation -=1\n",
    "    indexlocation+=1\n",
    "    for i in range(indexlocation-5, indexlocation+5):\n",
    "        if i == indexlocation:\n",
    "            print(f\"Boundary {listofbids[i]}\")\n",
    "        else:\n",
    "            print(listofbids[i])\n",
    "    return indexlocation\n"
   ]
  },
  {
   "cell_type": "code",
   "execution_count": 25,
   "id": "4b67df50-8a1d-4a94-bdf6-9eca7e48de0b",
   "metadata": {},
   "outputs": [],
   "source": [
    "X_data = []\n",
    "y_data = []\n",
    "\n",
    "for proposalid, example in X_examples.items():\n",
    "    for rowhash, row in example.items():\n",
    "        X_data.append(example[rowhash])\n",
    "        y_data.append(y_labels[proposalid][rowhash]) # same hashes"
   ]
  },
  {
   "cell_type": "code",
   "execution_count": 26,
   "id": "4570189a-dace-44fc-9c5a-35fedc59094d",
   "metadata": {},
   "outputs": [
    {
     "data": {
      "text/plain": [
       "True"
      ]
     },
     "execution_count": 26,
     "metadata": {},
     "output_type": "execute_result"
    }
   ],
   "source": [
    "len(X_data) == len(y_data)"
   ]
  },
  {
   "cell_type": "code",
   "execution_count": 27,
   "id": "e5f89b88-0a47-4994-8f50-136412666271",
   "metadata": {},
   "outputs": [
    {
     "name": "stdout",
     "output_type": "stream",
     "text": [
      "[Proposal_id                                       B1CBA1800717-0\n",
      "Unit Price     [0.0, 0.0, 0.0, 0.0, 0.0, 1395084.78, 0.0, 0.0...\n",
      "Name: 0, dtype: object, Proposal_id                                       B1CBA1800717-0\n",
      "Unit Price     [0.0, 0.0, 0.0, 0.0, 0.0, 758400.0, 0.0, 0.0, ...\n",
      "Name: 0, dtype: object, Proposal_id                                       B1CBA1800717-0\n",
      "Unit Price     [0.0, 0.0, 0.0, 0.0, 0.0, 726545.0, 0.0, 0.0, ...\n",
      "Name: 0, dtype: object, Proposal_id                                       B1CBA1800717-0\n",
      "Unit Price     [0.0, 0.0, 0.0, 0.0, 0.0, 750000.0, 0.0, 0.0, ...\n",
      "Name: 0, dtype: object, Proposal_id                                       B1CBA1800717-0\n",
      "Unit Price     [0.0, 0.0, 0.0, 0.0, 0.0, 758400.0, 0.0, 0.0, ...\n",
      "Name: 0, dtype: object, Proposal_id                                       B1CBA1800717-0\n",
      "Unit Price     [0.0, 0.0, 0.0, 0.0, 0.0, 726545.0, 0.0, 0.0, ...\n",
      "Name: 0, dtype: object, Proposal_id                                       B1CBA1800717-0\n",
      "Unit Price     [0.0, 0.0, 0.0, 0.0, 0.0, 750000.0, 0.0, 0.0, ...\n",
      "Name: 0, dtype: object, Proposal_id                                       B1CBA1800717-0\n",
      "Unit Price     [0.0, 0.0, 0.0, 0.0, 0.0, 1395084.78, 0.0, 0.0...\n",
      "Name: 0, dtype: object, Proposal_id                                       B1CBA1800717-0\n",
      "Unit Price     [0.0, 0.0, 0.0, 0.0, 0.0, 726545.0, 0.0, 0.0, ...\n",
      "Name: 0, dtype: object, Proposal_id                                       B1CBA1800717-0\n",
      "Unit Price     [0.0, 0.0, 0.0, 0.0, 0.0, 750000.0, 0.0, 0.0, ...\n",
      "Name: 0, dtype: object]\n"
     ]
    }
   ],
   "source": [
    "print(y_data[:10])"
   ]
  },
  {
   "cell_type": "code",
   "execution_count": 28,
   "id": "1e6e87ba-16a1-4fb3-a12d-9711ddfec48e",
   "metadata": {},
   "outputs": [
    {
     "data": {
      "text/plain": [
       "15782"
      ]
     },
     "execution_count": 28,
     "metadata": {},
     "output_type": "execute_result"
    }
   ],
   "source": [
    "len(X_data)"
   ]
  },
  {
   "cell_type": "code",
   "execution_count": 29,
   "id": "c4b79c5c-b7ab-4803-a481-c0349d9cd3e8",
   "metadata": {},
   "outputs": [
    {
     "name": "stdout",
     "output_type": "stream",
     "text": [
      "B1CBA2302153-0\n",
      "B1CBA2302153-0\n",
      "B1CBA2302153-0\n",
      "B1CBA2302153-0\n",
      "B1CBA2302153-0\n",
      "Boundary B1CBA2302248-0\n",
      "B1CBA2302248-0\n",
      "B1CBA2302248-0\n",
      "B1CBA2302248-0\n",
      "B1CBA2302248-0\n"
     ]
    },
    {
     "data": {
      "text/plain": [
       "(14196, 14196, 1586, 1586)"
      ]
     },
     "execution_count": 29,
     "metadata": {},
     "output_type": "execute_result"
    }
   ],
   "source": [
    "splitlocation = splitIndexLocation(X_examples, .9)\n",
    "\n",
    "X_train = X_data[:splitlocation]\n",
    "y_train = y_data[:splitlocation]\n",
    "\n",
    "X_test = X_data[splitlocation:]\n",
    "y_test = y_data[splitlocation:]\n",
    "\n",
    "len(X_train), len(y_train), len(X_test), len(y_test)"
   ]
  },
  {
   "cell_type": "code",
   "execution_count": 30,
   "id": "1f8908cd-09f2-4092-9055-58e9da10e986",
   "metadata": {},
   "outputs": [
    {
     "data": {
      "text/plain": [
       "((1586, 1890), (14196, 1890))"
      ]
     },
     "execution_count": 30,
     "metadata": {},
     "output_type": "execute_result"
    }
   ],
   "source": [
    "# Turn into final vectors labels and examples\n",
    "y_test = pd.DataFrame(y_test)[\"Unit Price\"].tolist()\n",
    "y_train = pd.DataFrame(y_train)[\"Unit Price\"].tolist()\n",
    "y_test = np.array(y_test)\n",
    "y_train = np.array(y_train)\n",
    "y_test.shape, y_train.shape"
   ]
  },
  {
   "cell_type": "code",
   "execution_count": 31,
   "id": "43e5eec4-53c1-46bc-953c-326020ed4d5e",
   "metadata": {},
   "outputs": [],
   "source": [
    "X_test = pd.DataFrame(X_test).iloc[:, 3:].to_numpy()\n",
    "X_train = pd.DataFrame(X_train).iloc[:, 3:].to_numpy()"
   ]
  },
  {
   "cell_type": "code",
   "execution_count": 32,
   "id": "ae956878-dc1f-4092-a9d2-9e29ec37e3fa",
   "metadata": {},
   "outputs": [
    {
     "data": {
      "text/plain": [
       "((1586, 2640), (14196, 2640))"
      ]
     },
     "execution_count": 32,
     "metadata": {},
     "output_type": "execute_result"
    }
   ],
   "source": [
    "X_test.shape, X_train.shape"
   ]
  },
  {
   "cell_type": "code",
   "execution_count": 33,
   "id": "89eca22e-baf2-4901-a333-1153ee3944a5",
   "metadata": {},
   "outputs": [],
   "source": [
    "np.save(\"../VAE_Data/X_train.npy\", X_train, allow_pickle=True)\n",
    "np.save(\"../VAE_Data/X_test.npy\", X_test, allow_pickle=True)\n",
    "np.save(\"../VAE_Data/y_train.npy\", y_train, allow_pickle=True)\n",
    "np.save(\"../VAE_Data/y_test.npy\", y_test, allow_pickle=True)"
   ]
  },
  {
   "cell_type": "code",
   "execution_count": null,
   "id": "df34bf2b-d8c6-4337-96c5-619ad4efd46c",
   "metadata": {},
   "outputs": [],
   "source": []
  },
  {
   "cell_type": "code",
   "execution_count": null,
   "id": "d0b2f0a1-dc02-4389-bf3e-2215c3788142",
   "metadata": {},
   "outputs": [],
   "source": []
  }
 ],
 "metadata": {
  "kernelspec": {
   "display_name": "Python 3 (ipykernel)",
   "language": "python",
   "name": "python3"
  },
  "language_info": {
   "codemirror_mode": {
    "name": "ipython",
    "version": 3
   },
   "file_extension": ".py",
   "mimetype": "text/x-python",
   "name": "python",
   "nbconvert_exporter": "python",
   "pygments_lexer": "ipython3",
   "version": "3.10.14"
  }
 },
 "nbformat": 4,
 "nbformat_minor": 5
}
