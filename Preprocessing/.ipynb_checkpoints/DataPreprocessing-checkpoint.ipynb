{
 "cells": [
  {
   "cell_type": "code",
   "execution_count": 201,
   "id": "371afd4c-d461-44d2-b776-0c2ff48216c6",
   "metadata": {},
   "outputs": [],
   "source": [
    "import os \n",
    "import pandas as pd\n",
    "import string\n",
    "from typing import List\n",
    "from datetime import datetime\n",
    "import re\n",
    "import numpy as np\n",
    "import hashlib"
   ]
  },
  {
   "cell_type": "code",
   "execution_count": 47,
   "id": "7c3e1495-c225-4c23-8353-ca50d3bf9fdc",
   "metadata": {},
   "outputs": [],
   "source": [
    "def returnSortedCSVList(csv_directory: str) -> List:\n",
    "    sortedfilelist = list()\n",
    "    def sort_key(filename):\n",
    "        underscoreindex = filename.index('_')\n",
    "        return filename[underscoreindex+1:-4]\n",
    "    for dirpath, dirnames, filenames in os.walk(csv_directory):\n",
    "        dirnames.sort()\n",
    "        sorted_files = sorted(filenames, key=sort_key)\n",
    "        sorted_files_with_paths = [os.path.join(dirpath, f) for f in sorted_files]\n",
    "        if sorted_files_with_paths:\n",
    "            sortedfilelist += sorted_files_with_paths\n",
    "    return sortedfilelist\n",
    "        "
   ]
  },
  {
   "cell_type": "code",
   "execution_count": 48,
   "id": "49ad272d-29cf-4287-ada2-283998c6cb40",
   "metadata": {},
   "outputs": [],
   "source": [
    "def findFileNameTimeStamp(csv_file: str) -> str:\n",
    "    short_index = csv_file.index('B')\n",
    "    shortfilename = csv_file[short_index:]\n",
    "    underscore_index = shortfilename.index('_')\n",
    "    return int(shortfilename[underscore_index+1:-4])"
   ]
  },
  {
   "cell_type": "code",
   "execution_count": 49,
   "id": "55a69eab-b3c7-4d10-a7d8-4f459f5534ae",
   "metadata": {},
   "outputs": [],
   "source": [
    "def convertRAWcsvtoDF(csv_file: str) -> pd.DataFrame:\n",
    "    rawcsvDF = pd.read_csv(csv_file)\n",
    "    rawcsvDF[\"Closing Date\"] = datetime.fromtimestamp(findFileNameTimeStamp(csv_file))\n",
    "    return rawcsvDF"
   ]
  },
  {
   "cell_type": "code",
   "execution_count": 116,
   "id": "d6a06dea-204f-4793-bb3e-5cf7f0e004e0",
   "metadata": {},
   "outputs": [],
   "source": [
    "def keepColumnsforFeatureVector(csvDF: pd.DataFrame) -> pd.DataFrame:\n",
    "    csvDF[\"Closing Date\"] = pd.to_datetime(csvDF[\"Closing Date\"]).dt.date\n",
    "    slimmedDF = csvDF.loc[:,[\"Proposal\", \"Item\", \"Quantity\", \"Vendor Name\", \"Bidder ID\", \"Unit Price\", \"Extension\", \"Closing Date\"]]\n",
    "    return slimmedDF\n",
    "   "
   ]
  },
  {
   "cell_type": "code",
   "execution_count": 199,
   "id": "6f5fafa1-24d9-480c-a037-e42ed423eda3",
   "metadata": {},
   "outputs": [],
   "source": [
    "def cleanDollarColumns(csvDF: pd.DataFrame) -> pd.DataFrame:\n",
    "    csvDF[\"Unit Price\"] = csvDF[\"Unit Price\"].astype(str).str.replace(r'[^\\d.]', '', regex=True).astype(float)\n",
    "    csvDF[\"Quantity\"] = csvDF[\"Quantity\"].astype(str).str.replace(r'[^\\d.]', '', regex=True).astype(float)\n",
    "    csvDF[\"Extension\"] = csvDF[\"Extension\"].astype(str).str.replace(r'[^\\d.]', '', regex=True).astype(float)\n",
    "    return csvDF"
   ]
  },
  {
   "cell_type": "code",
   "execution_count": 204,
   "id": "d07c76fb-ba89-48ef-afd1-eda002eb5a76",
   "metadata": {},
   "outputs": [],
   "source": [
    "def BidderIDtoNumber(id_string: str)-> int:\n",
    "    hash_object = hashlib.sha256(id_string.encode())\n",
    "    hash_hex = hash_object.hexdigest()\n",
    "    return int(hash_hex[:16], 16)\n",
    "def convertBidderIDColumntoNumberID(csvDF: pd.DataFrame) -> pd.DataFrame:\n",
    "    csvDF[\"Bidder ID\"] = csvDF[\"Bidder ID\"].astype(str).apply(BidderIDtoNumber)\n",
    "    return csvDF\n",
    "    "
   ]
  },
  {
   "cell_type": "code",
   "execution_count": 61,
   "id": "edf491a6-794a-48e0-8fc5-a1bbc76b6364",
   "metadata": {},
   "outputs": [],
   "source": [
    "def proposalVendorNameGrouping(csvDF: pd.DataFrame):\n",
    "    return csvDF.groupby('Vendor Name')"
   ]
  },
  {
   "cell_type": "code",
   "execution_count": 65,
   "id": "394afdf6-072d-4b6d-bd71-b7a96fe017e9",
   "metadata": {},
   "outputs": [],
   "source": [
    "def VendorNameBidderIDdict(csvDF: pd.DataFrame, vendorNameBidderIDmapping: dict) -> dict:\n",
    "    groupedVendors = proposalVendorNameGrouping(csvDF)\n",
    "    for name, group in groupedVendors:\n",
    "        vendorNameBidderIDmapping[name] = group[\"Bidder ID\"].iloc[0]\n",
    "    return vendorNameBidderIDmapping"
   ]
  },
  {
   "cell_type": "code",
   "execution_count": 237,
   "id": "92f96901-0a66-45eb-9238-4ce06a8ce8db",
   "metadata": {},
   "outputs": [],
   "source": [
    "def getProposalCode(csvDF: pd.DataFrame) -> str:\n",
    "    return csvDF['Proposal'].iloc[0]\n",
    "\n",
    "def getClosingDate(csvDF: pd.DataFrame) -> int:\n",
    "    return round(csvDF[\"Closing Date\"].iloc[0].toordinal())\n",
    "\n",
    "def getBidderID(csvDF: pd.DataFrame) -> int:\n",
    "    return csvDF[\"Bidder ID\"].iloc[0]\n",
    "\n",
    "def getContractorTotalBidAmount(csvDF: pd.DataFrame) -> float:\n",
    "    return csvDF[\"Extension\"].sum()\n",
    "\n",
    "def getContractorName(csvDF: pd.DataFrame) -> str:\n",
    "    return csvDF[\"Vendor Name\"].iloc[0]\n",
    "\n",
    "def getWonorNot(csvDF: pd.DataFrame) -> int:\n",
    "    return csvDF[\"Won\"].iloc[0]\n"
   ]
  },
  {
   "cell_type": "code",
   "execution_count": 253,
   "id": "0ac4c35c-da4c-4416-9264-cee6b662b086",
   "metadata": {},
   "outputs": [],
   "source": [
    "def combineDuplicatedProposalItems(csvDF: pd.DataFrame) -> pd.DataFrame:\n",
    "\n",
    "    def process_group(group):\n",
    "        duplicatedItems = group[group[\"Item\"].duplicated(keep=False)]\n",
    "        \n",
    "        if duplicatedItems.empty:\n",
    "            return group\n",
    "        \n",
    "        grouped = duplicatedItems.groupby(\"Item\").agg({\n",
    "            \"Quantity\": \"sum\",\n",
    "            \"Unit Price\": \"mean\",\n",
    "            \"Extension\": \"sum\"\n",
    "        }).reset_index()\n",
    "        \n",
    "        mergedRows = duplicatedItems.drop_duplicates(subset=\"Item\").merge(\n",
    "            grouped, on=\"Item\", suffixes=('', '_new')\n",
    "        )\n",
    "        \n",
    "        mergedRows[\"Quantity\"] = mergedRows[\"Quantity_new\"]\n",
    "        mergedRows[\"Unit Price\"] = mergedRows[\"Unit Price_new\"]\n",
    "        mergedRows[\"Extension\"] = mergedRows[\"Extension_new\"]\n",
    "        mergedRows = mergedRows.drop(columns=[\"Quantity_new\", \"Unit Price_new\", \"Extension_new\"])\n",
    "        \n",
    "        withoutDuplicatedDF = group[~group[\"Item\"].duplicated(keep='first')].dropna(subset=[\"Item\"])\n",
    "        \n",
    "        finalDF = pd.concat([withoutDuplicatedDF, mergedRows]).drop_duplicates(subset=\"Item\", keep=\"last\")\n",
    "        \n",
    "        return finalDF\n",
    "         \n",
    "    vendorNamegrouping = csvDF.groupby(\"Vendor Name\")\n",
    "    processed_groups = []\n",
    "    for name, group in vendorNamegrouping:\n",
    "        processed_group = process_group(group)\n",
    "        processed_groups.append(processed_group)\n",
    "    \n",
    "    finalDF = pd.concat(processed_groups).reset_index(drop=True)\n",
    "\n",
    "    vendor_totals = finalDF.groupby(\"Vendor Name\")[\"Extension\"].sum()\n",
    "\n",
    "    winning_vendor = vendor_totals.idxmin()\n",
    "\n",
    "    finalDF[\"Won\"] = np.where(finalDF[\"Vendor Name\"] == winning_vendor, 1, 0)\n",
    "    \n",
    "    return finalDF\n",
    "    \n"
   ]
  },
  {
   "cell_type": "code",
   "execution_count": 254,
   "id": "fcc79b4e-6a75-4418-a41b-8dd55a543683",
   "metadata": {},
   "outputs": [],
   "source": [
    "def flattenToVector(mergedItemDF: pd.DataFrame) -> np.array:\n",
    "    numpy2D = mergedItemDF.to_numpy()\n",
    "    lineitemsflat = numpy2D.flatten()\n",
    "    return lineitemsflat"
   ]
  },
  {
   "cell_type": "code",
   "execution_count": 263,
   "id": "fb488d99-eabb-4e9d-9ffa-1fb230594adc",
   "metadata": {},
   "outputs": [],
   "source": [
    "def createFeatureVector(proposalcode, contractorname, closingdate, bidderID, wonORlost, totalBidAmount, mergedItemDF: pd.DataFrame) -> np.array:\n",
    "    lineitemsflat = flattenToVector(mergedItemDF)\n",
    "    proposalcode_arr = np.array([proposalcode])\n",
    "    closingdate_arr = np.array([closingdate])\n",
    "    bidderID_arr = np.array([bidderID])\n",
    "    totalBidAmount_arr = np.array([totalBidAmount])\n",
    "    wonORlost_arr = np.array([wonORlost])\n",
    "    contractorname_arr = np.array([contractorname])\n",
    "    proposalfeaturevector = np.concatenate([\n",
    "        proposalcode_arr,\n",
    "        contractorname_arr,\n",
    "        closingdate_arr,\n",
    "        bidderID_arr,\n",
    "        wonORlost_arr,\n",
    "        totalBidAmount_arr,\n",
    "        lineitemsflat\n",
    "    ])\n",
    "    return proposalfeaturevector"
   ]
  },
  {
   "cell_type": "code",
   "execution_count": 264,
   "id": "70fea034-ea02-4942-bcdb-a2173f215d07",
   "metadata": {},
   "outputs": [],
   "source": [
    "def mapItemCodestoGDOTItemsandCreateFeatureVector(csvDF: pd.DataFrame) -> np.array:\n",
    "    proposalfeaturevectors = list()\n",
    "    vendorNamegrouping = proposalVendorNameGrouping(csvDF)\n",
    "    GADOT_ITEMS = pd.read_csv(\"../PayItemIndex_2021.csv\").drop(columns=[\"UNITS\", \"LS UNITS\", \"DESCRIPTION\"])\n",
    "    proposalcode = getProposalCode(bidderIDConvertDF)\n",
    "    closingdate = getClosingDate(bidderIDConvertDF)\n",
    "    for name, group in vendorNamegrouping:\n",
    "        bidderID = getBidderID(group)\n",
    "        contractorname = getContractorName(group)\n",
    "        wonORlost = getWonorNot(group)\n",
    "        mergedAllItems = pd.merge(GADOT_ITEMS, group, left_on=\"ITEM NO.\", right_on=\"Item\", how=\"left\").drop(\n",
    "            columns=[\"Proposal\", \"Vendor Name\", \"Bidder ID\", \"Closing Date\", \"Item\", \"ITEM NO.\", \"Won\"]).reset_index(drop=True)\n",
    "        mergedAllItems = mergedAllItems.fillna(0)\n",
    "        totalBidAmount = getContractorTotalBidAmount(mergedAllItems)\n",
    "        mergedAllItems = mergedAllItems.drop(columns=[\"Extension\"])\n",
    "        singlefeaturevector = createFeatureVector(proposalcode, contractorname, closingdate, bidderID, wonORlost, totalBidAmount, mergedAllItems)\n",
    "        proposalfeaturevectors.append(singlefeaturevector)\n",
    "        #print(f\"Merged Items Length: {len(mergedAllItems)}\")\n",
    "        #print(f\"{contractorname} Final Bid on {proposalcode}: {totalBidAmount}\")\n",
    "        #print(f\"Single Feature Vector Shape: {singlefeaturevector.shape}\")\n",
    "        #print(mergedAllItems[mergedAllItems[\"Quantity\"] > 0].head(40))\n",
    "    \n",
    "    return np.array(proposalfeaturevectors).T\n",
    "\n",
    "    "
   ]
  },
  {
   "cell_type": "code",
   "execution_count": 265,
   "id": "5ab757b2-1690-4e62-84c4-0a414fb084e0",
   "metadata": {
    "scrolled": true
   },
   "outputs": [],
   "source": [
    "sortedfiles = returnSortedCSVList('../ga_csv')\n",
    "vendorNameIDmapping = dict()\n",
    "allproposalsFeatureVectors = []\n",
    "for file in sortedfiles:\n",
    "    rawBidTab = convertRAWcsvtoDF(file)\n",
    "    neededcolBidTab = keepColumnsforFeatureVector(rawBidTab)\n",
    "    cleanedBidTab = cleanDollarColumns(neededcolBidTab)\n",
    "    bidderIDConvertDF = convertBidderIDColumntoNumberID(cleanedBidTab)\n",
    "    \n",
    "    vendorNameIDmapping = VendorNameBidderIDdict(bidderIDConvertDF, vendorNameIDmapping)\n",
    "    proposalcode = getProposalCode(bidderIDConvertDF)\n",
    "    closingdate = getClosingDate(bidderIDConvertDF)\n",
    "    \n",
    "    \n",
    "    duplicatesRemovedBidTab = combineDuplicatedProposalItems(bidderIDConvertDF)\n",
    "    \n",
    "    singleproposalfeaturevectors = mapItemCodestoGDOTItemsandCreateFeatureVector(duplicatesRemovedBidTab)\n",
    "   # print(singleproposalfeaturevectors.T.tolist()[0] == singleproposalfeaturevectors[:, 0].tolist())\n",
    "    allproposalsFeatureVectors.append(singleproposalfeaturevectors.T.tolist())\n",
    "    \n",
    "    \n",
    "\n"
   ]
  },
  {
   "cell_type": "code",
   "execution_count": 266,
   "id": "2e0aa61d-a430-4d60-9e06-472f798a58a7",
   "metadata": {},
   "outputs": [],
   "source": [
    "proposalsfeaturevectorsDF = pd.DataFrame()"
   ]
  },
  {
   "cell_type": "code",
   "execution_count": 267,
   "id": "a98cd503-ee67-438a-bd5d-98c84caf2b67",
   "metadata": {
    "scrolled": true
   },
   "outputs": [],
   "source": [
    "data_dict = {}\n",
    "totalbids = 0\n",
    "bidindex = 0\n",
    "for proposal in allproposalsFeatureVectors:\n",
    "    totalbids +=len(proposal)\n",
    "    for bid in proposal:\n",
    "        data_dict[f\"Bid {bidindex}\"] = bid\n",
    "        bidindex += 1\n"
   ]
  },
  {
   "cell_type": "code",
   "execution_count": 268,
   "id": "f8b2825e-238e-40a2-a16b-5ead89be78cc",
   "metadata": {},
   "outputs": [],
   "source": [
    "proposalsfeaturevectorsDF = pd.DataFrame.from_dict(data_dict)"
   ]
  },
  {
   "cell_type": "code",
   "execution_count": 269,
   "id": "14238d88-a9bc-4157-8999-7f1376dbaa2a",
   "metadata": {
    "scrolled": true
   },
   "outputs": [
    {
     "name": "stdout",
     "output_type": "stream",
     "text": [
      "                     Bid 0                             Bid 1  \\\n",
      "0           B1CBA2100830-0                    B1CBA2100830-0   \n",
      "1  BRASFIELD & GORRIE, LLC  GEORGIA BRIDGE AND CONCRETE, LLC   \n",
      "2                   737842                            737842   \n",
      "3     17514048918672564955              13160576302212482473   \n",
      "4                        0                                 0   \n",
      "5       2058705.8800000001                        1782721.05   \n",
      "6                      0.0                               0.0   \n",
      "7                      0.0                               0.0   \n",
      "8                      0.0                               0.0   \n",
      "9                      0.0                               0.0   \n",
      "\n",
      "                 Bid 2                           Bid 3  \\\n",
      "0       B1CBA2100830-0                  B1CBA2100830-0   \n",
      "1  MCCOY GRADING, INC.  PINE VALLEY CONCRETE CO., INC.   \n",
      "2               737842                          737842   \n",
      "3  7492328247865489751             7253993142375347671   \n",
      "4                    1                               0   \n",
      "5           1412304.65                      1467157.95   \n",
      "6                  0.0                             0.0   \n",
      "7                  0.0                             0.0   \n",
      "8                  0.0                             0.0   \n",
      "9                  0.0                             0.0   \n",
      "\n",
      "                          Bid 4                              Bid 5  \\\n",
      "0                B1CBA2100830-0                     B1CBA2100830-0   \n",
      "1  TIDWELL CONSTRUCTION COMPANY  WILLIAMS CONTRACTING COMPANY, LLC   \n",
      "2                        737842                             737842   \n",
      "3          12362214400396910139                8630780944956241809   \n",
      "4                             0                                  0   \n",
      "5                    1615851.65                         1576507.55   \n",
      "6                           0.0                                0.0   \n",
      "7                           0.0                                0.0   \n",
      "8                           0.0                                0.0   \n",
      "9                           0.0                                0.0   \n",
      "\n",
      "                        Bid 6                           Bid 7  \\\n",
      "0              B1CBA2100824-0                  B1CBA2100824-0   \n",
      "1  PEEK PAVEMENT MARKING, LLC  ROADSAFE TRAFFIC SYSTEMS, INC.   \n",
      "2                      737842                          737842   \n",
      "3        12085196802233766010             8144487325791968738   \n",
      "4                           0                               0   \n",
      "5                   713046.81               999987.7500000001   \n",
      "6                         0.0                             0.0   \n",
      "7                         0.0                             0.0   \n",
      "8                         0.0                             0.0   \n",
      "9                         0.0                             0.0   \n",
      "\n",
      "                       Bid 8                        Bid 9  ...  \\\n",
      "0             B1CBA2100824-0               B1CBA2100824-0  ...   \n",
      "1  ROADSIDE SPECIALTIES, LLC  TRP CONSTRUCTION GROUP, LLC  ...   \n",
      "2                     737842                       737842  ...   \n",
      "3       18188031434716553106          9890812050855712413  ...   \n",
      "4                          0                            1  ...   \n",
      "5                   852290.0                    583665.45  ...   \n",
      "6                        0.0                          0.0  ...   \n",
      "7                        0.0                          0.0  ...   \n",
      "8                        0.0                          0.0  ...   \n",
      "9                        0.0                          0.0  ...   \n",
      "\n",
      "                    Bid 2209                      Bid 2210  \\\n",
      "0             B1CBA2402021-0                B1CBA2402021-0   \n",
      "1  OHMSHIV CONSTRUCTION, LLC  PITTMAN CONSTRUCTION COMPANY   \n",
      "2                     739053                        739053   \n",
      "3        5620583313617664111          18247970538673719247   \n",
      "4                          0                             0   \n",
      "5         1299463.1600000001                    1303417.22   \n",
      "6                        0.0                           0.0   \n",
      "7                        0.0                           0.0   \n",
      "8                        0.0                           0.0   \n",
      "9                        0.0                           0.0   \n",
      "\n",
      "                              Bid 2211                     Bid 2212  \\\n",
      "0                       B1CBA2402021-0               B3CBA2402049-0   \n",
      "1  WILSON CONSTRUCTION MANAGEMENT, LLC  OXFORD CONSTRUCTION COMPANY   \n",
      "2                               739053                       739053   \n",
      "3                  6926519900818897885           231354610578019013   \n",
      "4                                    0                            1   \n",
      "5                            1142796.0            4453500.399999999   \n",
      "6                                  0.0                          0.0   \n",
      "7                                  0.0                          0.0   \n",
      "8                                  0.0                          0.0   \n",
      "9                                  0.0                          0.0   \n",
      "\n",
      "                                    Bid 2213             Bid 2214  \\\n",
      "0                             B1CBA2401984-0       B1CBA2401984-0   \n",
      "1  REAMES AND SON CONSTRUCTION COMPANY, INC.  THE SCRUGGS COMPANY   \n",
      "2                                     739053               739053   \n",
      "3                       14954714022940837687  5166575017012953145   \n",
      "4                                          1                    0   \n",
      "5                                 4993002.57           5074131.44   \n",
      "6                                        0.0                  0.0   \n",
      "7                                        0.0                  0.0   \n",
      "8                                        0.0                  0.0   \n",
      "9                                        0.0                  0.0   \n",
      "\n",
      "                       Bid 2215                              Bid 2216  \\\n",
      "0                B1CBA2401976-0                        B1CBA2401976-0   \n",
      "1  BALDWIN PAVING COMPANY, INC.  C. W. MATTHEWS CONTRACTING CO., INC.   \n",
      "2                        739053                                739053   \n",
      "3          11494767873968677632                  11295075201831234105   \n",
      "4                             1                                     0   \n",
      "5            3679175.5700000003                             3688124.0   \n",
      "6                           0.0                                   0.0   \n",
      "7                           0.0                                   0.0   \n",
      "8                           0.0                                   0.0   \n",
      "9                           0.0                                   0.0   \n",
      "\n",
      "                       Bid 2217                                 Bid 2218  \n",
      "0                B1CBA2401976-0                           B1CBA2401976-0  \n",
      "1  E. R. SNELL CONTRACTOR, INC.  SUMMIT CONSTRUCTION & DEVELOPMENT, LLC.  \n",
      "2                        739053                                   739053  \n",
      "3          11204624755977916136                     12655212319190792354  \n",
      "4                             0                                        0  \n",
      "5                     4352153.8                               4119741.75  \n",
      "6                           0.0                                      0.0  \n",
      "7                           0.0                                      0.0  \n",
      "8                           0.0                                      0.0  \n",
      "9                           0.0                                      0.0  \n",
      "\n",
      "[10 rows x 2219 columns]\n"
     ]
    }
   ],
   "source": [
    "print(proposalsfeaturevectorsDF.head(10))"
   ]
  },
  {
   "cell_type": "code",
   "execution_count": 270,
   "id": "b4ae78da-4898-40d0-96b3-50e039154459",
   "metadata": {},
   "outputs": [
    {
     "name": "stdout",
     "output_type": "stream",
     "text": [
      "(9896, 2219)\n"
     ]
    }
   ],
   "source": [
    "print(proposalsfeaturevectorsDF.shape)"
   ]
  },
  {
   "cell_type": "code",
   "execution_count": null,
   "id": "bfec4515-7f85-4e04-ab10-0c8e0f609cfc",
   "metadata": {},
   "outputs": [],
   "source": [
    "# TODO: Standard Scale across Line Item Roads\n",
    "# Train Test Split: Don't Shuffle!, make sure proposals with given id stay in same group\n",
    "# Research on Kaggle some of the Housing Market models for binary classification model/probability model\n",
    "# Build that damn model!"
   ]
  }
 ],
 "metadata": {
  "kernelspec": {
   "display_name": "Python 3 (ipykernel)",
   "language": "python",
   "name": "python3"
  },
  "language_info": {
   "codemirror_mode": {
    "name": "ipython",
    "version": 3
   },
   "file_extension": ".py",
   "mimetype": "text/x-python",
   "name": "python",
   "nbconvert_exporter": "python",
   "pygments_lexer": "ipython3",
   "version": "3.10.14"
  }
 },
 "nbformat": 4,
 "nbformat_minor": 5
}
