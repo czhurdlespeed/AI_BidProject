{
 "cells": [
  {
   "cell_type": "code",
   "execution_count": 349,
   "id": "0d6b427a-2ac1-4af0-8205-3dc419d7eea1",
   "metadata": {},
   "outputs": [],
   "source": [
    "import pandas as pd\n",
    "import re\n",
    "from sklearn.preprocessing import StandardScaler, OneHotEncoder, LabelEncoder\n",
    "from sklearn.compose import ColumnTransformer\n",
    "from sklearn.pipeline import Pipeline\n",
    "import numpy as np\n",
    "import os"
   ]
  },
  {
   "cell_type": "code",
   "execution_count": 352,
   "id": "3f6c14bc-a167-4fbc-b308-17d4d9615402",
   "metadata": {},
   "outputs": [
    {
     "name": "stdout",
     "output_type": "stream",
     "text": [
      "683\n"
     ]
    }
   ],
   "source": [
    "## Read CSVs\n",
    "listofreadCSVbidtabs = []\n",
    "for root,dirs, files in os.walk(\"ga_csv\"):\n",
    "    for file in files:\n",
    "        filepath = os.path.join(root, file)\n",
    "        listofreadCSVbidtabs.append(pd.read_csv(filepath))\n",
    "print(len(listofreadCSVbidtabs))"
   ]
  },
  {
   "cell_type": "code",
   "execution_count": 356,
   "id": "f834b440-1c67-4fd6-9990-8fbb773ce26d",
   "metadata": {},
   "outputs": [
    {
     "name": "stdout",
     "output_type": "stream",
     "text": [
      "         Proposal  Call Order  Section Number Section Description  Line  \\\n",
      "0  B1CBA2401581-0           2               1             ROADWAY     5   \n",
      "1  B1CBA2401581-0           2               1             ROADWAY     5   \n",
      "2  B1CBA2401581-0           2               1             ROADWAY     5   \n",
      "3  B1CBA2401581-0           2               1             ROADWAY     5   \n",
      "4  B1CBA2401581-0           2               1             ROADWAY     5   \n",
      "\n",
      "       Item  Alternate Code           Item Description Quantity Unit  \\\n",
      "0  150-1000             NaN  TRAFFIC CONTROL - 0013813  1.00000   LS   \n",
      "1  150-1000             NaN  TRAFFIC CONTROL - 0013813  1.00000   LS   \n",
      "2  150-1000             NaN  TRAFFIC CONTROL - 0013813  1.00000   LS   \n",
      "3  150-1000             NaN  TRAFFIC CONTROL - 0013813  1.00000   LS   \n",
      "4  150-1000             NaN  TRAFFIC CONTROL - 0013813  1.00000   LS   \n",
      "\n",
      "                                  Vendor Name       Bidder ID   Unit Price  \\\n",
      "0                E. R. SNELL CONTRACTOR, INC.          2SN250  $425,000.00   \n",
      "1  WRIGHT BROTHERS CONSTRUCTION COMPANY, INC.          2WR260  $463,000.00   \n",
      "2            GEORGIA BRIDGE AND CONCRETE, LLC  00000000014054  $520,000.00   \n",
      "3            UNITED INFRASTRUCTURE GROUP INC.          2UN765  $647,088.00   \n",
      "4        C. W. MATTHEWS CONTRACTING CO., INC.          2MA850  $180,340.02   \n",
      "\n",
      "     Extension     Deviation  \n",
      "0  $425,000.00         $0.00  \n",
      "1  $463,000.00    $38,000.00  \n",
      "2  $520,000.00    $95,000.00  \n",
      "3  $647,088.00   $222,088.00  \n",
      "4  $180,340.02  -$244,659.98  \n"
     ]
    }
   ],
   "source": [
    "print(dataframe.head())"
   ]
  },
  {
   "cell_type": "code",
   "execution_count": 355,
   "id": "3bb4accd-f912-4878-b59d-66aadfcc184d",
   "metadata": {},
   "outputs": [
    {
     "name": "stdout",
     "output_type": "stream",
     "text": [
      "['E. R. SNELL CONTRACTOR, INC.'\n",
      " 'WRIGHT BROTHERS CONSTRUCTION COMPANY, INC.'\n",
      " 'GEORGIA BRIDGE AND CONCRETE, LLC' 'UNITED INFRASTRUCTURE GROUP INC.'\n",
      " 'C. W. MATTHEWS CONTRACTING CO., INC.']\n"
     ]
    }
   ],
   "source": [
    "dataframe = pd.read_csv(\"ga_csv/2024/B1CBA2401581-0.csv\")\n",
    "print(dataframe['Vendor Name'].unique())\n"
   ]
  },
  {
   "cell_type": "code",
   "execution_count": 317,
   "id": "d2446b4b-016e-46dd-ae5b-ed4b08d98869",
   "metadata": {},
   "outputs": [],
   "source": [
    "# Clean Columns\n",
    "def clean_numeric_columns(df, columns):\n",
    "    def clean_string(s):\n",
    "        if pd.isna(s):\n",
    "            return s\n",
    "        return re.sub(r'[^\\d.]', '', str(s))\n",
    "\n",
    "    for col in columns:\n",
    "        if col in df.columns:\n",
    "            df[col] = df[col].apply(clean_string)\n",
    "            # Convert to float if possible\n",
    "            df[col] = pd.to_numeric(df[col], errors='ignore')\n",
    "        else:\n",
    "            print(f\"Warning: Column '{col}' not found in the DataFrame.\")\n",
    "\n",
    "    return df"
   ]
  },
  {
   "cell_type": "code",
   "execution_count": 318,
   "id": "b46dd379-5600-4f28-b54d-a62327f125c9",
   "metadata": {},
   "outputs": [],
   "source": [
    "def necessarycolumns(df):\n",
    "    columnsforFeatureVector = [\"Proposal\",\"Item\", \"Quantity\", \"Vendor Name\", \"Unit Price\", \"Extension\"]\n",
    "    featurevectordataframe = df[columnsforFeatureVector]\n",
    "    return featurevectordataframe"
   ]
  },
  {
   "cell_type": "code",
   "execution_count": 319,
   "id": "764a37d1-b79d-44ad-b153-3b06a7f49e33",
   "metadata": {},
   "outputs": [
    {
     "name": "stdout",
     "output_type": "stream",
     "text": [
      "         Proposal      Item     Quantity                   Vendor Name  \\\n",
      "0  B1CBA2401581-0  150-1000      1.00000  E. R. SNELL CONTRACTOR, INC.   \n",
      "1  B1CBA2401581-0  603-2024     15.00000  E. R. SNELL CONTRACTOR, INC.   \n",
      "2  B1CBA2401581-0  603-2181    180.00000  E. R. SNELL CONTRACTOR, INC.   \n",
      "3  B1CBA2401581-0  520-1173  1,310.00000  E. R. SNELL CONTRACTOR, INC.   \n",
      "4  B1CBA2401581-0  603-7000    195.00000  E. R. SNELL CONTRACTOR, INC.   \n",
      "\n",
      "    Unit Price    Extension  Bid Tab Rankings  \n",
      "0  $425,000.00  $425,000.00                 0  \n",
      "1       $99.75    $1,496.25                 0  \n",
      "2       $53.75    $9,675.00                 0  \n",
      "3      $140.00  $183,400.00                 0  \n",
      "4        $5.45    $1,062.75                 0  \n"
     ]
    }
   ],
   "source": [
    "featurevectordataframe = necessarycolumns(sortedbidtab)\n",
    "print(featurevectordataframe.head())"
   ]
  },
  {
   "cell_type": "code",
   "execution_count": 320,
   "id": "1cb22c45-3b88-42fa-bbbe-ed184098846a",
   "metadata": {},
   "outputs": [
    {
     "name": "stderr",
     "output_type": "stream",
     "text": [
      "/var/folders/3j/nswsh09j5rxcg8c7sj06k4080000gn/T/ipykernel_89193/3404092778.py:10: SettingWithCopyWarning: \n",
      "A value is trying to be set on a copy of a slice from a DataFrame.\n",
      "Try using .loc[row_indexer,col_indexer] = value instead\n",
      "\n",
      "See the caveats in the documentation: https://pandas.pydata.org/pandas-docs/stable/user_guide/indexing.html#returning-a-view-versus-a-copy\n",
      "  df[col] = df[col].apply(clean_string)\n",
      "/var/folders/3j/nswsh09j5rxcg8c7sj06k4080000gn/T/ipykernel_89193/3404092778.py:12: FutureWarning: errors='ignore' is deprecated and will raise in a future version. Use to_numeric without passing `errors` and catch exceptions explicitly instead\n",
      "  df[col] = pd.to_numeric(df[col], errors='ignore')\n",
      "/var/folders/3j/nswsh09j5rxcg8c7sj06k4080000gn/T/ipykernel_89193/3404092778.py:12: SettingWithCopyWarning: \n",
      "A value is trying to be set on a copy of a slice from a DataFrame.\n",
      "Try using .loc[row_indexer,col_indexer] = value instead\n",
      "\n",
      "See the caveats in the documentation: https://pandas.pydata.org/pandas-docs/stable/user_guide/indexing.html#returning-a-view-versus-a-copy\n",
      "  df[col] = pd.to_numeric(df[col], errors='ignore')\n"
     ]
    },
    {
     "data": {
      "text/html": [
       "<div>\n",
       "<style scoped>\n",
       "    .dataframe tbody tr th:only-of-type {\n",
       "        vertical-align: middle;\n",
       "    }\n",
       "\n",
       "    .dataframe tbody tr th {\n",
       "        vertical-align: top;\n",
       "    }\n",
       "\n",
       "    .dataframe thead th {\n",
       "        text-align: right;\n",
       "    }\n",
       "</style>\n",
       "<table border=\"1\" class=\"dataframe\">\n",
       "  <thead>\n",
       "    <tr style=\"text-align: right;\">\n",
       "      <th></th>\n",
       "      <th>Proposal</th>\n",
       "      <th>Item</th>\n",
       "      <th>Quantity</th>\n",
       "      <th>Vendor Name</th>\n",
       "      <th>Unit Price</th>\n",
       "      <th>Extension</th>\n",
       "      <th>Bid Tab Rankings</th>\n",
       "    </tr>\n",
       "  </thead>\n",
       "  <tbody>\n",
       "    <tr>\n",
       "      <th>0</th>\n",
       "      <td>B1CBA2401581-0</td>\n",
       "      <td>150-1000</td>\n",
       "      <td>1.0</td>\n",
       "      <td>E. R. SNELL CONTRACTOR, INC.</td>\n",
       "      <td>425000.00</td>\n",
       "      <td>425000.00</td>\n",
       "      <td>0</td>\n",
       "    </tr>\n",
       "    <tr>\n",
       "      <th>1</th>\n",
       "      <td>B1CBA2401581-0</td>\n",
       "      <td>603-2024</td>\n",
       "      <td>15.0</td>\n",
       "      <td>E. R. SNELL CONTRACTOR, INC.</td>\n",
       "      <td>99.75</td>\n",
       "      <td>1496.25</td>\n",
       "      <td>0</td>\n",
       "    </tr>\n",
       "    <tr>\n",
       "      <th>2</th>\n",
       "      <td>B1CBA2401581-0</td>\n",
       "      <td>603-2181</td>\n",
       "      <td>180.0</td>\n",
       "      <td>E. R. SNELL CONTRACTOR, INC.</td>\n",
       "      <td>53.75</td>\n",
       "      <td>9675.00</td>\n",
       "      <td>0</td>\n",
       "    </tr>\n",
       "    <tr>\n",
       "      <th>3</th>\n",
       "      <td>B1CBA2401581-0</td>\n",
       "      <td>520-1173</td>\n",
       "      <td>1310.0</td>\n",
       "      <td>E. R. SNELL CONTRACTOR, INC.</td>\n",
       "      <td>140.00</td>\n",
       "      <td>183400.00</td>\n",
       "      <td>0</td>\n",
       "    </tr>\n",
       "    <tr>\n",
       "      <th>4</th>\n",
       "      <td>B1CBA2401581-0</td>\n",
       "      <td>603-7000</td>\n",
       "      <td>195.0</td>\n",
       "      <td>E. R. SNELL CONTRACTOR, INC.</td>\n",
       "      <td>5.45</td>\n",
       "      <td>1062.75</td>\n",
       "      <td>0</td>\n",
       "    </tr>\n",
       "  </tbody>\n",
       "</table>\n",
       "</div>"
      ],
      "text/plain": [
       "         Proposal      Item  Quantity                   Vendor Name  \\\n",
       "0  B1CBA2401581-0  150-1000       1.0  E. R. SNELL CONTRACTOR, INC.   \n",
       "1  B1CBA2401581-0  603-2024      15.0  E. R. SNELL CONTRACTOR, INC.   \n",
       "2  B1CBA2401581-0  603-2181     180.0  E. R. SNELL CONTRACTOR, INC.   \n",
       "3  B1CBA2401581-0  520-1173    1310.0  E. R. SNELL CONTRACTOR, INC.   \n",
       "4  B1CBA2401581-0  603-7000     195.0  E. R. SNELL CONTRACTOR, INC.   \n",
       "\n",
       "   Unit Price  Extension  Bid Tab Rankings  \n",
       "0   425000.00  425000.00                 0  \n",
       "1       99.75    1496.25                 0  \n",
       "2       53.75    9675.00                 0  \n",
       "3      140.00  183400.00                 0  \n",
       "4        5.45    1062.75                 0  "
      ]
     },
     "execution_count": 320,
     "metadata": {},
     "output_type": "execute_result"
    }
   ],
   "source": [
    "cleanedfeaturevectorDF = clean_numeric_columns(featurevectordataframe, [\"Quantity\", \"Unit Price\", \"Extension\"])\n",
    "cleanedfeaturevectorDF.head()"
   ]
  },
  {
   "cell_type": "code",
   "execution_count": 321,
   "id": "cc458980-d0ee-45ea-b4d3-14c63f9db976",
   "metadata": {},
   "outputs": [
    {
     "name": "stdout",
     "output_type": "stream",
     "text": [
      "111\n",
      "107\n",
      "107\n",
      "111\n",
      "107\n"
     ]
    }
   ],
   "source": [
    "individualcontractorDFs = dict()\n",
    "for contractor in cleanedfeaturevectorDF['Vendor Name'].unique():\n",
    "    individualcontractorDFs[contractor] = cleanedfeaturevectorDF[cleanedfeaturevectorDF[\"Vendor Name\"] == contractor].reset_index(drop=True)\n",
    "    individualcontractorDFs[contractor].dropna(subset=['Item'], inplace=True)\n",
    "    df = individualcontractorDFs[contractor]\n",
    "    duplicated_items = df[df['Item'].duplicated(keep=False)][\"Item\"].unique()\n",
    "    #print(f\"Duplicated Items: {duplicated_items}\")\n",
    "    for item in duplicated_items:\n",
    "        subset = df[df[\"Item\"] == item].reset_index(drop=True)\n",
    "        #print(f\"Subset: {subset}\")\n",
    "        itemdf = pd.DataFrame({\n",
    "            \"Proposal\": [df[\"Proposal\"].iloc[0]],\n",
    "            \"Item\": [item],\n",
    "            \"Quantity\": [subset[\"Quantity\"].sum()],\n",
    "            \"Vendor Name\": [df[\"Vendor Name\"].iloc[0]],\n",
    "            \"Unit Price\": [subset[\"Unit Price\"].mean()], # NOTE: COME BACK TO THIS...THIS MAY BE AN ISSUE\n",
    "            \"Extension\": [subset[\"Extension\"].sum()]\n",
    "        })\n",
    "        #print(f\"Item df: {itemdf}\")\n",
    "        df = df[df[\"Item\"] != item]\n",
    "        df = pd.concat([df, itemdf])\n",
    "    individualcontractorDFs[contractor] = df   \n",
    "    print(len(individualcontractorDFs[contractor]))\n",
    "    "
   ]
  },
  {
   "cell_type": "code",
   "execution_count": 322,
   "id": "b26a510a-1eb9-4cfd-b500-0216b81b6160",
   "metadata": {},
   "outputs": [
    {
     "name": "stdout",
     "output_type": "stream",
     "text": [
      "4945\n"
     ]
    }
   ],
   "source": [
    "GADOT_payitem_index = list(pd.read_csv(\"PayItemIndex_2021.csv\")[\"ITEM NO.\"])\n",
    "print(len(GADOT_payitem_index))\n"
   ]
  },
  {
   "cell_type": "code",
   "execution_count": 323,
   "id": "72c5ee8c-b850-457e-8182-00380c533416",
   "metadata": {},
   "outputs": [],
   "source": [
    "itemsEachContractorinProposal = dict()\n",
    "for contractorname, contractor in individualcontractorDFs.items():\n",
    "    GADOT_payitemsDF = pd.DataFrame({\"Item\": GADOT_payitem_index})\n",
    "    allPayItems = pd.merge(GADOT_payitemsDF, contractor, on=\"Item\", how=\"left\")\n",
    "    # Fill NaN values for specific columns\n",
    "    allPayItems[\"Proposal\"] = allPayItems[\"Proposal\"].fillna(contractor[\"Proposal\"].iloc[0])\n",
    "    allPayItems[\"Vendor Name\"] = allPayItems[\"Vendor Name\"].fillna(contractor[\"Vendor Name\"].iloc[0])\n",
    "    allPayItems[\"Bid Tab Rankings\"] = allPayItems[\"Bid Tab Rankings\"].fillna(contractor[\"Bid Tab Rankings\"].iloc[0])\n",
    "    \n",
    "    # Fill NaN values for numeric columns with 0\n",
    "    numeric_columns = [\"Quantity\", \"Unit Price\", \"Extension\"]\n",
    "    allPayItems[numeric_columns] = allPayItems[numeric_columns].fillna(0)\n",
    "    itemsEachContractorinProposal[contractorname] = allPayItems"
   ]
  },
  {
   "cell_type": "code",
   "execution_count": 324,
   "id": "1917a0c3-433c-4d07-8472-3351a422bd93",
   "metadata": {
    "scrolled": true
   },
   "outputs": [
    {
     "name": "stdout",
     "output_type": "stream",
     "text": [
      "{'E. R. SNELL CONTRACTOR, INC.':               Item        Proposal  Quantity                   Vendor Name  \\\n",
      "0         001-1000  B1CBA2401581-0       0.0  E. R. SNELL CONTRACTOR, INC.   \n",
      "1         001-1900  B1CBA2401581-0       0.0  E. R. SNELL CONTRACTOR, INC.   \n",
      "2         001-1999  B1CBA2401581-0       0.0  E. R. SNELL CONTRACTOR, INC.   \n",
      "3         001-2000  B1CBA2401581-0       0.0  E. R. SNELL CONTRACTOR, INC.   \n",
      "4         001-2001  B1CBA2401581-0       0.0  E. R. SNELL CONTRACTOR, INC.   \n",
      "...            ...             ...       ...                           ...   \n",
      "4940  T-901-501-01  B1CBA2401581-0       0.0  E. R. SNELL CONTRACTOR, INC.   \n",
      "4941  T-901-501-02  B1CBA2401581-0       0.0  E. R. SNELL CONTRACTOR, INC.   \n",
      "4942  T-904-501-01  B1CBA2401581-0       0.0  E. R. SNELL CONTRACTOR, INC.   \n",
      "4943  T-905-501-01  B1CBA2401581-0       0.0  E. R. SNELL CONTRACTOR, INC.   \n",
      "4944  T-905-502-01  B1CBA2401581-0       0.0  E. R. SNELL CONTRACTOR, INC.   \n",
      "\n",
      "      Unit Price  Extension  Bid Tab Rankings  \n",
      "0            0.0        0.0               0.0  \n",
      "1            0.0        0.0               0.0  \n",
      "2            0.0        0.0               0.0  \n",
      "3            0.0        0.0               0.0  \n",
      "4            0.0        0.0               0.0  \n",
      "...          ...        ...               ...  \n",
      "4940         0.0        0.0               0.0  \n",
      "4941         0.0        0.0               0.0  \n",
      "4942         0.0        0.0               0.0  \n",
      "4943         0.0        0.0               0.0  \n",
      "4944         0.0        0.0               0.0  \n",
      "\n",
      "[4945 rows x 7 columns], 'WRIGHT BROTHERS CONSTRUCTION COMPANY, INC.':               Item        Proposal  Quantity  \\\n",
      "0         001-1000  B1CBA2401581-0       0.0   \n",
      "1         001-1900  B1CBA2401581-0       0.0   \n",
      "2         001-1999  B1CBA2401581-0       0.0   \n",
      "3         001-2000  B1CBA2401581-0       0.0   \n",
      "4         001-2001  B1CBA2401581-0       0.0   \n",
      "...            ...             ...       ...   \n",
      "4940  T-901-501-01  B1CBA2401581-0       0.0   \n",
      "4941  T-901-501-02  B1CBA2401581-0       0.0   \n",
      "4942  T-904-501-01  B1CBA2401581-0       0.0   \n",
      "4943  T-905-501-01  B1CBA2401581-0       0.0   \n",
      "4944  T-905-502-01  B1CBA2401581-0       0.0   \n",
      "\n",
      "                                     Vendor Name  Unit Price  Extension  \\\n",
      "0     WRIGHT BROTHERS CONSTRUCTION COMPANY, INC.         0.0        0.0   \n",
      "1     WRIGHT BROTHERS CONSTRUCTION COMPANY, INC.         0.0        0.0   \n",
      "2     WRIGHT BROTHERS CONSTRUCTION COMPANY, INC.         0.0        0.0   \n",
      "3     WRIGHT BROTHERS CONSTRUCTION COMPANY, INC.         0.0        0.0   \n",
      "4     WRIGHT BROTHERS CONSTRUCTION COMPANY, INC.         0.0        0.0   \n",
      "...                                          ...         ...        ...   \n",
      "4940  WRIGHT BROTHERS CONSTRUCTION COMPANY, INC.         0.0        0.0   \n",
      "4941  WRIGHT BROTHERS CONSTRUCTION COMPANY, INC.         0.0        0.0   \n",
      "4942  WRIGHT BROTHERS CONSTRUCTION COMPANY, INC.         0.0        0.0   \n",
      "4943  WRIGHT BROTHERS CONSTRUCTION COMPANY, INC.         0.0        0.0   \n",
      "4944  WRIGHT BROTHERS CONSTRUCTION COMPANY, INC.         0.0        0.0   \n",
      "\n",
      "      Bid Tab Rankings  \n",
      "0                  1.0  \n",
      "1                  1.0  \n",
      "2                  1.0  \n",
      "3                  1.0  \n",
      "4                  1.0  \n",
      "...                ...  \n",
      "4940               1.0  \n",
      "4941               1.0  \n",
      "4942               1.0  \n",
      "4943               1.0  \n",
      "4944               1.0  \n",
      "\n",
      "[4945 rows x 7 columns], 'GEORGIA BRIDGE AND CONCRETE, LLC':               Item        Proposal  Quantity  \\\n",
      "0         001-1000  B1CBA2401581-0       0.0   \n",
      "1         001-1900  B1CBA2401581-0       0.0   \n",
      "2         001-1999  B1CBA2401581-0       0.0   \n",
      "3         001-2000  B1CBA2401581-0       0.0   \n",
      "4         001-2001  B1CBA2401581-0       0.0   \n",
      "...            ...             ...       ...   \n",
      "4940  T-901-501-01  B1CBA2401581-0       0.0   \n",
      "4941  T-901-501-02  B1CBA2401581-0       0.0   \n",
      "4942  T-904-501-01  B1CBA2401581-0       0.0   \n",
      "4943  T-905-501-01  B1CBA2401581-0       0.0   \n",
      "4944  T-905-502-01  B1CBA2401581-0       0.0   \n",
      "\n",
      "                           Vendor Name  Unit Price  Extension  \\\n",
      "0     GEORGIA BRIDGE AND CONCRETE, LLC         0.0        0.0   \n",
      "1     GEORGIA BRIDGE AND CONCRETE, LLC         0.0        0.0   \n",
      "2     GEORGIA BRIDGE AND CONCRETE, LLC         0.0        0.0   \n",
      "3     GEORGIA BRIDGE AND CONCRETE, LLC         0.0        0.0   \n",
      "4     GEORGIA BRIDGE AND CONCRETE, LLC         0.0        0.0   \n",
      "...                                ...         ...        ...   \n",
      "4940  GEORGIA BRIDGE AND CONCRETE, LLC         0.0        0.0   \n",
      "4941  GEORGIA BRIDGE AND CONCRETE, LLC         0.0        0.0   \n",
      "4942  GEORGIA BRIDGE AND CONCRETE, LLC         0.0        0.0   \n",
      "4943  GEORGIA BRIDGE AND CONCRETE, LLC         0.0        0.0   \n",
      "4944  GEORGIA BRIDGE AND CONCRETE, LLC         0.0        0.0   \n",
      "\n",
      "      Bid Tab Rankings  \n",
      "0                  2.0  \n",
      "1                  2.0  \n",
      "2                  2.0  \n",
      "3                  2.0  \n",
      "4                  2.0  \n",
      "...                ...  \n",
      "4940               2.0  \n",
      "4941               2.0  \n",
      "4942               2.0  \n",
      "4943               2.0  \n",
      "4944               2.0  \n",
      "\n",
      "[4945 rows x 7 columns], 'UNITED INFRASTRUCTURE GROUP INC.':               Item        Proposal  Quantity  \\\n",
      "0         001-1000  B1CBA2401581-0       0.0   \n",
      "1         001-1900  B1CBA2401581-0       0.0   \n",
      "2         001-1999  B1CBA2401581-0       0.0   \n",
      "3         001-2000  B1CBA2401581-0       0.0   \n",
      "4         001-2001  B1CBA2401581-0       0.0   \n",
      "...            ...             ...       ...   \n",
      "4940  T-901-501-01  B1CBA2401581-0       0.0   \n",
      "4941  T-901-501-02  B1CBA2401581-0       0.0   \n",
      "4942  T-904-501-01  B1CBA2401581-0       0.0   \n",
      "4943  T-905-501-01  B1CBA2401581-0       0.0   \n",
      "4944  T-905-502-01  B1CBA2401581-0       0.0   \n",
      "\n",
      "                           Vendor Name  Unit Price  Extension  \\\n",
      "0     UNITED INFRASTRUCTURE GROUP INC.         0.0        0.0   \n",
      "1     UNITED INFRASTRUCTURE GROUP INC.         0.0        0.0   \n",
      "2     UNITED INFRASTRUCTURE GROUP INC.         0.0        0.0   \n",
      "3     UNITED INFRASTRUCTURE GROUP INC.         0.0        0.0   \n",
      "4     UNITED INFRASTRUCTURE GROUP INC.         0.0        0.0   \n",
      "...                                ...         ...        ...   \n",
      "4940  UNITED INFRASTRUCTURE GROUP INC.         0.0        0.0   \n",
      "4941  UNITED INFRASTRUCTURE GROUP INC.         0.0        0.0   \n",
      "4942  UNITED INFRASTRUCTURE GROUP INC.         0.0        0.0   \n",
      "4943  UNITED INFRASTRUCTURE GROUP INC.         0.0        0.0   \n",
      "4944  UNITED INFRASTRUCTURE GROUP INC.         0.0        0.0   \n",
      "\n",
      "      Bid Tab Rankings  \n",
      "0                  3.0  \n",
      "1                  3.0  \n",
      "2                  3.0  \n",
      "3                  3.0  \n",
      "4                  3.0  \n",
      "...                ...  \n",
      "4940               3.0  \n",
      "4941               3.0  \n",
      "4942               3.0  \n",
      "4943               3.0  \n",
      "4944               3.0  \n",
      "\n",
      "[4945 rows x 7 columns], 'C. W. MATTHEWS CONTRACTING CO., INC.':               Item        Proposal  Quantity  \\\n",
      "0         001-1000  B1CBA2401581-0       0.0   \n",
      "1         001-1900  B1CBA2401581-0       0.0   \n",
      "2         001-1999  B1CBA2401581-0       0.0   \n",
      "3         001-2000  B1CBA2401581-0       0.0   \n",
      "4         001-2001  B1CBA2401581-0       0.0   \n",
      "...            ...             ...       ...   \n",
      "4940  T-901-501-01  B1CBA2401581-0       0.0   \n",
      "4941  T-901-501-02  B1CBA2401581-0       0.0   \n",
      "4942  T-904-501-01  B1CBA2401581-0       0.0   \n",
      "4943  T-905-501-01  B1CBA2401581-0       0.0   \n",
      "4944  T-905-502-01  B1CBA2401581-0       0.0   \n",
      "\n",
      "                               Vendor Name  Unit Price  Extension  \\\n",
      "0     C. W. MATTHEWS CONTRACTING CO., INC.         0.0        0.0   \n",
      "1     C. W. MATTHEWS CONTRACTING CO., INC.         0.0        0.0   \n",
      "2     C. W. MATTHEWS CONTRACTING CO., INC.         0.0        0.0   \n",
      "3     C. W. MATTHEWS CONTRACTING CO., INC.         0.0        0.0   \n",
      "4     C. W. MATTHEWS CONTRACTING CO., INC.         0.0        0.0   \n",
      "...                                    ...         ...        ...   \n",
      "4940  C. W. MATTHEWS CONTRACTING CO., INC.         0.0        0.0   \n",
      "4941  C. W. MATTHEWS CONTRACTING CO., INC.         0.0        0.0   \n",
      "4942  C. W. MATTHEWS CONTRACTING CO., INC.         0.0        0.0   \n",
      "4943  C. W. MATTHEWS CONTRACTING CO., INC.         0.0        0.0   \n",
      "4944  C. W. MATTHEWS CONTRACTING CO., INC.         0.0        0.0   \n",
      "\n",
      "      Bid Tab Rankings  \n",
      "0                  4.0  \n",
      "1                  4.0  \n",
      "2                  4.0  \n",
      "3                  4.0  \n",
      "4                  4.0  \n",
      "...                ...  \n",
      "4940               4.0  \n",
      "4941               4.0  \n",
      "4942               4.0  \n",
      "4943               4.0  \n",
      "4944               4.0  \n",
      "\n",
      "[4945 rows x 7 columns]}\n"
     ]
    }
   ],
   "source": [
    "print(itemsEachContractorinProposal)"
   ]
  },
  {
   "cell_type": "code",
   "execution_count": 325,
   "id": "77a25ee9-492f-40f3-97ff-9057c0d232b4",
   "metadata": {},
   "outputs": [
    {
     "name": "stdout",
     "output_type": "stream",
     "text": [
      "Index(['Item', 'Proposal', 'Quantity', 'Vendor Name', 'Unit Price',\n",
      "       'Extension', 'Bid Tab Rankings'],\n",
      "      dtype='object')\n"
     ]
    }
   ],
   "source": [
    "print(itemsEachContractorinProposal['E. R. SNELL CONTRACTOR, INC.'].columns)"
   ]
  },
  {
   "cell_type": "code",
   "execution_count": 326,
   "id": "b9af98d5-901f-414c-93e5-3c4ba3aaaa35",
   "metadata": {},
   "outputs": [
    {
     "name": "stdout",
     "output_type": "stream",
     "text": [
      "E. R. SNELL CONTRACTOR, INC.\n",
      "B1CBA2401581-0\n",
      "2\n"
     ]
    }
   ],
   "source": [
    "# Need to flatten each dataframe of each contractor to form feature vector\n",
    "# Combine vectors to form single example and single label\n",
    "# Then iterator across all BidX contracts\n",
    "# Split into Training, Validation, and Testing from there\n",
    "\n",
    "def getContractor(dataframe: pd.DataFrame):\n",
    "    return dataframe.iat[0, 3]\n",
    "def getProposalID(dataframe: pd.DataFrame):\n",
    "    return dataframe.iat[0, 1]\n",
    "def getRanking(dataframe: pd.DataFrame):\n",
    "    return int(dataframe.iat[0, 6])\n",
    "print(getContractor(itemsEachContractorinProposal['E. R. SNELL CONTRACTOR, INC.']))\n",
    "print(getProposalID(itemsEachContractorinProposal['E. R. SNELL CONTRACTOR, INC.']))\n",
    "print(getRanking(itemsEachContractorinProposal['GEORGIA BRIDGE AND CONCRETE, LLC']))"
   ]
  },
  {
   "cell_type": "code",
   "execution_count": 327,
   "id": "ed3150f8-728a-4e5d-b506-e87a79638d22",
   "metadata": {},
   "outputs": [],
   "source": [
    "def scaleNumericColumns(contractor_name: str):\n",
    "    numeric_features = ['Quantity', 'Unit Price', 'Extension']\n",
    "    categorical_features = ['Item', 'Vendor Name', 'Bid Tab Rankings']\n",
    "    \n",
    "    preprocessor = ColumnTransformer(\n",
    "        transformers=[\n",
    "            ('num', StandardScaler(), numeric_features),\n",
    "        ])\n",
    "    pipeline = Pipeline([('preprocessor', preprocessor)])\n",
    "    \n",
    "    feature_vector = pipeline.fit_transform(itemsEachContractorinProposal[contractor_name])\n",
    "    return pd.DataFrame(feature_vector)"
   ]
  },
  {
   "cell_type": "code",
   "execution_count": 328,
   "id": "539748d9-87c5-40a4-8268-b7e5f3dd2d3d",
   "metadata": {},
   "outputs": [
    {
     "name": "stdout",
     "output_type": "stream",
     "text": [
      "       Item        Proposal  Quantity                   Vendor Name  \\\n",
      "0  001-1000  B1CBA2401581-0 -0.035475  E. R. SNELL CONTRACTOR, INC.   \n",
      "1  001-1900  B1CBA2401581-0 -0.035475  E. R. SNELL CONTRACTOR, INC.   \n",
      "2  001-1999  B1CBA2401581-0 -0.035475  E. R. SNELL CONTRACTOR, INC.   \n",
      "3  001-2000  B1CBA2401581-0 -0.035475  E. R. SNELL CONTRACTOR, INC.   \n",
      "4  001-2001  B1CBA2401581-0 -0.035475  E. R. SNELL CONTRACTOR, INC.   \n",
      "\n",
      "   Unit Price  Extension  Bid Tab Rankings  \n",
      "0   -0.022908  -0.048726               0.0  \n",
      "1   -0.022908  -0.048726               0.0  \n",
      "2   -0.022908  -0.048726               0.0  \n",
      "3   -0.022908  -0.048726               0.0  \n",
      "4   -0.022908  -0.048726               0.0  \n",
      "       Item        Proposal  Quantity  \\\n",
      "0  001-1000  B1CBA2401581-0 -0.036096   \n",
      "1  001-1900  B1CBA2401581-0 -0.036096   \n",
      "2  001-1999  B1CBA2401581-0 -0.036096   \n",
      "3  001-2000  B1CBA2401581-0 -0.036096   \n",
      "4  001-2001  B1CBA2401581-0 -0.036096   \n",
      "\n",
      "                                  Vendor Name  Unit Price  Extension  \\\n",
      "0  WRIGHT BROTHERS CONSTRUCTION COMPANY, INC.   -0.023934   -0.05309   \n",
      "1  WRIGHT BROTHERS CONSTRUCTION COMPANY, INC.   -0.023934   -0.05309   \n",
      "2  WRIGHT BROTHERS CONSTRUCTION COMPANY, INC.   -0.023934   -0.05309   \n",
      "3  WRIGHT BROTHERS CONSTRUCTION COMPANY, INC.   -0.023934   -0.05309   \n",
      "4  WRIGHT BROTHERS CONSTRUCTION COMPANY, INC.   -0.023934   -0.05309   \n",
      "\n",
      "   Bid Tab Rankings  \n",
      "0               1.0  \n",
      "1               1.0  \n",
      "2               1.0  \n",
      "3               1.0  \n",
      "4               1.0  \n",
      "       Item        Proposal  Quantity                       Vendor Name  \\\n",
      "0  001-1000  B1CBA2401581-0 -0.035942  GEORGIA BRIDGE AND CONCRETE, LLC   \n",
      "1  001-1900  B1CBA2401581-0 -0.035942  GEORGIA BRIDGE AND CONCRETE, LLC   \n",
      "2  001-1999  B1CBA2401581-0 -0.035942  GEORGIA BRIDGE AND CONCRETE, LLC   \n",
      "3  001-2000  B1CBA2401581-0 -0.035942  GEORGIA BRIDGE AND CONCRETE, LLC   \n",
      "4  001-2001  B1CBA2401581-0 -0.035942  GEORGIA BRIDGE AND CONCRETE, LLC   \n",
      "\n",
      "   Unit Price  Extension  Bid Tab Rankings  \n",
      "0   -0.022834  -0.046865               2.0  \n",
      "1   -0.022834  -0.046865               2.0  \n",
      "2   -0.022834  -0.046865               2.0  \n",
      "3   -0.022834  -0.046865               2.0  \n",
      "4   -0.022834  -0.046865               2.0  \n",
      "       Item        Proposal  Quantity                       Vendor Name  \\\n",
      "0  001-1000  B1CBA2401581-0 -0.035475  UNITED INFRASTRUCTURE GROUP INC.   \n",
      "1  001-1900  B1CBA2401581-0 -0.035475  UNITED INFRASTRUCTURE GROUP INC.   \n",
      "2  001-1999  B1CBA2401581-0 -0.035475  UNITED INFRASTRUCTURE GROUP INC.   \n",
      "3  001-2000  B1CBA2401581-0 -0.035475  UNITED INFRASTRUCTURE GROUP INC.   \n",
      "4  001-2001  B1CBA2401581-0 -0.035475  UNITED INFRASTRUCTURE GROUP INC.   \n",
      "\n",
      "   Unit Price  Extension  Bid Tab Rankings  \n",
      "0   -0.029693  -0.053984               3.0  \n",
      "1   -0.029693  -0.053984               3.0  \n",
      "2   -0.029693  -0.053984               3.0  \n",
      "3   -0.029693  -0.053984               3.0  \n",
      "4   -0.029693  -0.053984               3.0  \n",
      "       Item        Proposal  Quantity                           Vendor Name  \\\n",
      "0  001-1000  B1CBA2401581-0 -0.035942  C. W. MATTHEWS CONTRACTING CO., INC.   \n",
      "1  001-1900  B1CBA2401581-0 -0.035942  C. W. MATTHEWS CONTRACTING CO., INC.   \n",
      "2  001-1999  B1CBA2401581-0 -0.035942  C. W. MATTHEWS CONTRACTING CO., INC.   \n",
      "3  001-2000  B1CBA2401581-0 -0.035942  C. W. MATTHEWS CONTRACTING CO., INC.   \n",
      "4  001-2001  B1CBA2401581-0 -0.035942  C. W. MATTHEWS CONTRACTING CO., INC.   \n",
      "\n",
      "   Unit Price  Extension  Bid Tab Rankings  \n",
      "0   -0.021915  -0.046337               4.0  \n",
      "1   -0.021915  -0.046337               4.0  \n",
      "2   -0.021915  -0.046337               4.0  \n",
      "3   -0.021915  -0.046337               4.0  \n",
      "4   -0.021915  -0.046337               4.0  \n"
     ]
    }
   ],
   "source": [
    "proposalScaledNumeric = pd.DataFrame()\n",
    "finalbids = dict()\n",
    "for contractorname, dataframe in itemsEachContractorinProposal.items():\n",
    "    finalbids[contractorname] = dataframe['Extension'].sum()\n",
    "    feature_df = scaleNumericColumns(contractorname)\n",
    "    scaledNumericDF = dataframe\n",
    "    scaledNumericDF[\"Quantity\"] = feature_df[0]\n",
    "    scaledNumericDF[\"Unit Price\"] = feature_df[1]\n",
    "    scaledNumericDF[\"Extension\"] = feature_df[2]\n",
    "    print(scaledNumericDF.head())\n",
    "    proposalScaledNumeric = pd.concat([proposalScaledNumeric, scaledNumericDF], axis=0)\n"
   ]
  },
  {
   "cell_type": "code",
   "execution_count": 329,
   "id": "d6fa96cc-b4e6-4a40-989c-b0920b330df6",
   "metadata": {},
   "outputs": [
    {
     "data": {
      "text/plain": [
       "(24725, 7)"
      ]
     },
     "execution_count": 329,
     "metadata": {},
     "output_type": "execute_result"
    }
   ],
   "source": [
    "proposalScaledNumeric.shape"
   ]
  },
  {
   "cell_type": "code",
   "execution_count": 330,
   "id": "16df35ba-05fd-4b7b-8e1d-a9c1f93fe68d",
   "metadata": {},
   "outputs": [
    {
     "name": "stdout",
     "output_type": "stream",
     "text": [
      "Index(['Item', 'Proposal', 'Quantity', 'Vendor Name', 'Unit Price',\n",
      "       'Extension', 'Bid Tab Rankings'],\n",
      "      dtype='object')\n"
     ]
    }
   ],
   "source": [
    "print(proposalScaledNumeric.columns)"
   ]
  },
  {
   "cell_type": "code",
   "execution_count": 331,
   "id": "23c76174-af59-4d30-a760-c9013abd7e34",
   "metadata": {},
   "outputs": [],
   "source": [
    "def encodeCategoricalColumns(dataframe):\n",
    "    numeric_features = ['Quantity', 'Unit Price', 'Extension']\n",
    "    categorical_features = ['Item', 'Vendor Name', 'Bid Tab Rankings']\n",
    "    item_encoder = LabelEncoder()\n",
    "    dataframe['Item'] = item_encoder.fit_transform(dataframe['Item'])\n",
    "    vendor_encoder = OneHotEncoder(sparse_output=False)\n",
    "    preprocessor = ColumnTransformer(\n",
    "        transformers=[\n",
    "            ('vendor_encoder', vendor_encoder, ['Vendor Name']),\n",
    "            ('num', 'passthrough', ['Item','Proposal', 'Quantity', 'Unit Price', 'Extension'])\n",
    "        ])\n",
    "    pipeline = Pipeline([('preprocessor', preprocessor)])\n",
    "    encoded_data = pipeline.fit_transform(dataframe)\n",
    "\n",
    "    fitted_vendor_encoder = pipeline.named_steps['preprocessor'].named_transformers_['vendor_encoder']\n",
    "    vendor_feature_names = fitted_vendor_encoder.get_feature_names_out(['Vendor Name'])\n",
    "\n",
    "    all_feature_names = list(vendor_feature_names) + ['Item','Proposal', 'Quantity', 'Unit Price', 'Extension']\n",
    "\n",
    "    \n",
    "    return pd.DataFrame(encoded_data, columns = all_feature_names)"
   ]
  },
  {
   "cell_type": "code",
   "execution_count": 332,
   "id": "6fdf52f4-0a60-4575-9f3c-2623c94aa5d7",
   "metadata": {},
   "outputs": [],
   "source": [
    "encodedDataFrame = encodeCategoricalColumns(proposalScaledNumeric)"
   ]
  },
  {
   "cell_type": "code",
   "execution_count": 333,
   "id": "02136a9d-ff1f-488c-b14f-86abfa8196fb",
   "metadata": {},
   "outputs": [
    {
     "name": "stdout",
     "output_type": "stream",
     "text": [
      "  Vendor Name_C. W. MATTHEWS CONTRACTING CO., INC.  \\\n",
      "0                                              0.0   \n",
      "1                                              0.0   \n",
      "2                                              0.0   \n",
      "3                                              0.0   \n",
      "4                                              0.0   \n",
      "\n",
      "  Vendor Name_E. R. SNELL CONTRACTOR, INC.  \\\n",
      "0                                      1.0   \n",
      "1                                      1.0   \n",
      "2                                      1.0   \n",
      "3                                      1.0   \n",
      "4                                      1.0   \n",
      "\n",
      "  Vendor Name_GEORGIA BRIDGE AND CONCRETE, LLC  \\\n",
      "0                                          0.0   \n",
      "1                                          0.0   \n",
      "2                                          0.0   \n",
      "3                                          0.0   \n",
      "4                                          0.0   \n",
      "\n",
      "  Vendor Name_UNITED INFRASTRUCTURE GROUP INC.  \\\n",
      "0                                          0.0   \n",
      "1                                          0.0   \n",
      "2                                          0.0   \n",
      "3                                          0.0   \n",
      "4                                          0.0   \n",
      "\n",
      "  Vendor Name_WRIGHT BROTHERS CONSTRUCTION COMPANY, INC. Item        Proposal  \\\n",
      "0                                                0.0        0  B1CBA2401581-0   \n",
      "1                                                0.0        1  B1CBA2401581-0   \n",
      "2                                                0.0        2  B1CBA2401581-0   \n",
      "3                                                0.0        3  B1CBA2401581-0   \n",
      "4                                                0.0        4  B1CBA2401581-0   \n",
      "\n",
      "   Quantity Unit Price Extension  \n",
      "0 -0.035475  -0.022908 -0.048726  \n",
      "1 -0.035475  -0.022908 -0.048726  \n",
      "2 -0.035475  -0.022908 -0.048726  \n",
      "3 -0.035475  -0.022908 -0.048726  \n",
      "4 -0.035475  -0.022908 -0.048726  \n"
     ]
    }
   ],
   "source": [
    "print(encodedDataFrame.head())"
   ]
  },
  {
   "cell_type": "code",
   "execution_count": 334,
   "id": "1a3a72f9-9887-4384-b224-8a013b4f518f",
   "metadata": {},
   "outputs": [
    {
     "name": "stdout",
     "output_type": "stream",
     "text": [
      "{'E. R. SNELL CONTRACTOR, INC.': 16444620.76, 'WRIGHT BROTHERS CONSTRUCTION COMPANY, INC.': 17529804.1, 'GEORGIA BRIDGE AND CONCRETE, LLC': 18631145.18, 'UNITED INFRASTRUCTURE GROUP INC.': 18923907.04, 'C. W. MATTHEWS CONTRACTING CO., INC.': 20214514.189999998}\n"
     ]
    }
   ],
   "source": [
    "print(finalbids)\n",
    "dollarlabels = list(finalbids.values())"
   ]
  },
  {
   "cell_type": "code",
   "execution_count": 335,
   "id": "36a62d0f-5f9e-4d47-994a-eb44b80549d0",
   "metadata": {},
   "outputs": [
    {
     "name": "stdout",
     "output_type": "stream",
     "text": [
      "[16444620.76, 17529804.1, 18631145.18, 18923907.04, 20214514.189999998]\n"
     ]
    }
   ],
   "source": [
    "print(dollarlabels)"
   ]
  },
  {
   "cell_type": "code",
   "execution_count": 336,
   "id": "277c3349-a2d5-43fa-8b17-7f421b865308",
   "metadata": {},
   "outputs": [
    {
     "name": "stdout",
     "output_type": "stream",
     "text": [
      "E. R. SNELL CONTRACTOR, INC.: Place 1, Bid Amount: $16,444,620.76\n",
      "WRIGHT BROTHERS CONSTRUCTION COMPANY, INC.: Place 2, Bid Amount: $17,529,804.10\n",
      "GEORGIA BRIDGE AND CONCRETE, LLC: Place 3, Bid Amount: $18,631,145.18\n",
      "UNITED INFRASTRUCTURE GROUP INC.: Place 4, Bid Amount: $18,923,907.04\n",
      "C. W. MATTHEWS CONTRACTING CO., INC.: Place 5, Bid Amount: $20,214,514.19\n"
     ]
    }
   ],
   "source": [
    "# Sort the dictionary items based on values (bid amounts)\n",
    "sorted_bids = sorted(finalbids.items(), key=lambda x: x[1])\n",
    "\n",
    "# Create a new dictionary with places\n",
    "placed_bids = {contractor: {'amount': amount, 'place': place + 1} \n",
    "               for place, (contractor, amount) in enumerate(sorted_bids)}\n",
    "\n",
    "# Print the result\n",
    "for contractor, info in placed_bids.items():\n",
    "    print(f\"{contractor}: Place {info['place']}, Bid Amount: ${info['amount']:,.2f}\")"
   ]
  },
  {
   "cell_type": "code",
   "execution_count": 337,
   "id": "17ed03e3-fe6d-46b3-92c2-f99e561f7d44",
   "metadata": {
    "scrolled": true
   },
   "outputs": [
    {
     "name": "stdout",
     "output_type": "stream",
     "text": [
      "{'C. W. MATTHEWS CONTRACTING CO., INC.':        Quantity Unit Price\n",
      "19780 -0.035942  -0.021915\n",
      "19781 -0.035942  -0.021915\n",
      "19782 -0.035942  -0.021915\n",
      "19783 -0.035942  -0.021915\n",
      "19784 -0.035942  -0.021915\n",
      "...         ...        ...\n",
      "24720 -0.035942  -0.021915\n",
      "24721 -0.035942  -0.021915\n",
      "24722 -0.035942  -0.021915\n",
      "24723 -0.035942  -0.021915\n",
      "24724 -0.035942  -0.021915\n",
      "\n",
      "[4945 rows x 2 columns], 'E. R. SNELL CONTRACTOR, INC.':       Quantity Unit Price\n",
      "0    -0.035475  -0.022908\n",
      "1    -0.035475  -0.022908\n",
      "2    -0.035475  -0.022908\n",
      "3    -0.035475  -0.022908\n",
      "4    -0.035475  -0.022908\n",
      "...        ...        ...\n",
      "4940 -0.035475  -0.022908\n",
      "4941 -0.035475  -0.022908\n",
      "4942 -0.035475  -0.022908\n",
      "4943 -0.035475  -0.022908\n",
      "4944 -0.035475  -0.022908\n",
      "\n",
      "[4945 rows x 2 columns], 'GEORGIA BRIDGE AND CONCRETE, LLC':        Quantity Unit Price\n",
      "9890  -0.035942  -0.022834\n",
      "9891  -0.035942  -0.022834\n",
      "9892  -0.035942  -0.022834\n",
      "9893  -0.035942  -0.022834\n",
      "9894  -0.035942  -0.022834\n",
      "...         ...        ...\n",
      "14830 -0.035942  -0.022834\n",
      "14831 -0.035942  -0.022834\n",
      "14832 -0.035942  -0.022834\n",
      "14833 -0.035942  -0.022834\n",
      "14834 -0.035942  -0.022834\n",
      "\n",
      "[4945 rows x 2 columns], 'UNITED INFRASTRUCTURE GROUP INC.':        Quantity Unit Price\n",
      "14835 -0.035475  -0.029693\n",
      "14836 -0.035475  -0.029693\n",
      "14837 -0.035475  -0.029693\n",
      "14838 -0.035475  -0.029693\n",
      "14839 -0.035475  -0.029693\n",
      "...         ...        ...\n",
      "19775 -0.035475  -0.029693\n",
      "19776 -0.035475  -0.029693\n",
      "19777 -0.035475  -0.029693\n",
      "19778 -0.035475  -0.029693\n",
      "19779 -0.035475  -0.029693\n",
      "\n",
      "[4945 rows x 2 columns], 'WRIGHT BROTHERS CONSTRUCTION COMPANY, INC.':       Quantity Unit Price\n",
      "4945 -0.036096  -0.023934\n",
      "4946 -0.036096  -0.023934\n",
      "4947 -0.036096  -0.023934\n",
      "4948 -0.036096  -0.023934\n",
      "4949 -0.036096  -0.023934\n",
      "...        ...        ...\n",
      "9885 -0.036096  -0.023934\n",
      "9886 -0.036096  -0.023934\n",
      "9887 -0.036096  -0.023934\n",
      "9888 -0.036096  -0.023934\n",
      "9889 -0.036096  -0.023934\n",
      "\n",
      "[4945 rows x 2 columns]}\n"
     ]
    }
   ],
   "source": [
    "contractors = dict()\n",
    "for column in encodedDataFrame.columns:\n",
    "    if \"Vendor Name\" in column:\n",
    "        contractors[column[12:]] = encodedDataFrame[encodedDataFrame[column] > 0].loc[:,[\"Quantity\", \"Unit Price\"]]\n",
    "print(contractors)"
   ]
  },
  {
   "cell_type": "code",
   "execution_count": 339,
   "id": "526b82f1-d4b5-41b8-a943-06a242d133ee",
   "metadata": {},
   "outputs": [],
   "source": [
    "winningbidamount = min(dollarlabels)"
   ]
  },
  {
   "cell_type": "code",
   "execution_count": 343,
   "id": "cc61047f-5892-403d-9fd8-a1d7255ee689",
   "metadata": {},
   "outputs": [],
   "source": [
    "def createVectorLabelPairs(proposals: dict):\n",
    "    proposal = encodedDataFrame['Proposal'].iloc[0]\n",
    "    proposals[proposal] = []\n",
    "    for contractorname, contractordataframe in contractors.items():\n",
    "        proposals[proposal].append((contractorname, contractordataframe.to_numpy().flatten(), (placed_bids[contractorname]['place'], winningbidamount)))\n",
    "    return proposals\n"
   ]
  },
  {
   "cell_type": "code",
   "execution_count": 344,
   "id": "481e3591-2e14-478e-ba72-4a020a742946",
   "metadata": {},
   "outputs": [],
   "source": [
    "proposals = dict()\n",
    "proposals = createVectorLabelPairs(proposals)"
   ]
  },
  {
   "cell_type": "code",
   "execution_count": 345,
   "id": "a6df6f5b-7b6b-43f0-84c0-013d1ffe0ec0",
   "metadata": {},
   "outputs": [
    {
     "name": "stdout",
     "output_type": "stream",
     "text": [
      "{'B1CBA2401581-0': [('C. W. MATTHEWS CONTRACTING CO., INC.', array([-0.03594155529929083, -0.02191542404445782, -0.03594155529929083,\n",
      "       ..., -0.02191542404445782, -0.03594155529929083,\n",
      "       -0.02191542404445782], dtype=object), (5, 16444620.76)), ('E. R. SNELL CONTRACTOR, INC.', array([-0.035475424571911766, -0.022907726859653955,\n",
      "       -0.035475424571911766, ..., -0.022907726859653955,\n",
      "       -0.035475424571911766, -0.022907726859653955], dtype=object), (1, 16444620.76)), ('GEORGIA BRIDGE AND CONCRETE, LLC', array([-0.03594155529929083, -0.022833777324449255, -0.03594155529929083,\n",
      "       ..., -0.022833777324449255, -0.03594155529929083,\n",
      "       -0.022833777324449255], dtype=object), (3, 16444620.76)), ('UNITED INFRASTRUCTURE GROUP INC.', array([-0.035475424571911766, -0.0296931997251182, -0.035475424571911766,\n",
      "       ..., -0.0296931997251182, -0.035475424571911766,\n",
      "       -0.0296931997251182], dtype=object), (4, 16444620.76)), ('WRIGHT BROTHERS CONSTRUCTION COMPANY, INC.', array([-0.036096031114238716, -0.023933794089566248,\n",
      "       -0.036096031114238716, ..., -0.023933794089566248,\n",
      "       -0.036096031114238716, -0.023933794089566248], dtype=object), (2, 16444620.76))]}\n"
     ]
    }
   ],
   "source": [
    "print(proposals)"
   ]
  },
  {
   "cell_type": "code",
   "execution_count": null,
   "id": "22af0b6b-a02d-49f6-b3e3-f923b475440e",
   "metadata": {},
   "outputs": [],
   "source": [
    "# Training -> quantity and unit price -> have model predict place and winnning bid amount "
   ]
  },
  {
   "cell_type": "code",
   "execution_count": 357,
   "id": "37cbddd8-1aac-4988-bf00-eba4c1d2668f",
   "metadata": {},
   "outputs": [],
   "source": [
    "def createXtrainYtrain(proposals):\n",
    "    X_data = []\n",
    "    y_data = []\n",
    "    for proposal, infolist in proposals.items():\n",
    "        for infotuple in infolist:\n",
    "            X_data.append(infotuple[1])\n",
    "            y_data.append(infotuple[2])\n",
    "    return np.array(X_data), np.array(y_data)"
   ]
  },
  {
   "cell_type": "code",
   "execution_count": 358,
   "id": "2b10c430-3992-4bc3-b939-96a037625526",
   "metadata": {},
   "outputs": [
    {
     "name": "stdout",
     "output_type": "stream",
     "text": [
      "(array([[-0.03594155529929083, -0.02191542404445782, -0.03594155529929083,\n",
      "        ..., -0.02191542404445782, -0.03594155529929083,\n",
      "        -0.02191542404445782],\n",
      "       [-0.035475424571911766, -0.022907726859653955,\n",
      "        -0.035475424571911766, ..., -0.022907726859653955,\n",
      "        -0.035475424571911766, -0.022907726859653955],\n",
      "       [-0.03594155529929083, -0.022833777324449255,\n",
      "        -0.03594155529929083, ..., -0.022833777324449255,\n",
      "        -0.03594155529929083, -0.022833777324449255],\n",
      "       [-0.035475424571911766, -0.0296931997251182,\n",
      "        -0.035475424571911766, ..., -0.0296931997251182,\n",
      "        -0.035475424571911766, -0.0296931997251182],\n",
      "       [-0.036096031114238716, -0.023933794089566248,\n",
      "        -0.036096031114238716, ..., -0.023933794089566248,\n",
      "        -0.036096031114238716, -0.023933794089566248]], dtype=object), array([[5.00000000e+00, 1.64446208e+07],\n",
      "       [1.00000000e+00, 1.64446208e+07],\n",
      "       [3.00000000e+00, 1.64446208e+07],\n",
      "       [4.00000000e+00, 1.64446208e+07],\n",
      "       [2.00000000e+00, 1.64446208e+07]]))\n"
     ]
    }
   ],
   "source": [
    "print(createXtrainYtrain(proposals))"
   ]
  },
  {
   "cell_type": "code",
   "execution_count": null,
   "id": "48098c6a-62a3-4f56-b998-f11b779b1fe2",
   "metadata": {},
   "outputs": [],
   "source": []
  }
 ],
 "metadata": {
  "kernelspec": {
   "display_name": "Python 3 (ipykernel)",
   "language": "python",
   "name": "python3"
  },
  "language_info": {
   "codemirror_mode": {
    "name": "ipython",
    "version": 3
   },
   "file_extension": ".py",
   "mimetype": "text/x-python",
   "name": "python",
   "nbconvert_exporter": "python",
   "pygments_lexer": "ipython3",
   "version": "3.10.14"
  }
 },
 "nbformat": 4,
 "nbformat_minor": 5
}
